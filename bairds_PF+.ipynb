{
 "cells": [
  {
   "cell_type": "code",
   "execution_count": 1,
   "metadata": {},
   "outputs": [],
   "source": [
    "import numpy as np\n",
    "import random\n",
    "import matplotlib.pyplot as plt\n",
    "import bairds_mdp\n",
    "import PF_Plus"
   ]
  },
  {
   "cell_type": "code",
   "execution_count": 2,
   "metadata": {
    "scrolled": true
   },
   "outputs": [],
   "source": [
    "mdp = bairds_mdp.MDP()\n",
    "stepCount = 100000\n",
    "Transitions = []\n",
    "current = random.randint(1,7)\n",
    "newFeatures = np.array(mdp.getFeatures(current))\n",
    "reward = 0\n",
    "discount = mdp.getDiscountFactor()\n",
    "for i in range(stepCount):\n",
    "    prev = current\n",
    "    oldFeatures = newFeatures\n",
    "    current,ratio = mdp.nextState(current)\n",
    "    newFeatures = np.array(mdp.getFeatures(current))\n",
    "    sample = (ratio,reward,oldFeatures,newFeatures)\n",
    "    Transitions.append(sample)"
   ]
  },
  {
   "cell_type": "code",
   "execution_count": 3,
   "metadata": {},
   "outputs": [],
   "source": [
    "A = []\n",
    "b = []\n",
    "d = 8\n",
    "M = []\n",
    "for i in range(stepCount):\n",
    "    sample = Transitions[i]\n",
    "    temp = sample[2] - discount * sample[3]\n",
    "    result_A = np.matmul(sample[0]*sample[2].reshape((d,1)),temp.reshape((1,d)))\n",
    "    A.append(result_A)\n",
    "    result_b = sample[1]*sample[0]*sample[3]\n",
    "    b.append(result_b)\n",
    "    result_M = np.matmul(sample[2].reshape((d,1)),sample[2].reshape((1,d)))\n",
    "    M.append(result_M)"
   ]
  },
  {
   "cell_type": "code",
   "execution_count": 4,
   "metadata": {},
   "outputs": [],
   "source": [
    "def calc_g_hat_theta(A_mat,y_vect):\n",
    "    return - np.matmul(np.transpose(A_mat),y_vect.reshape((d,1)))\n",
    "def calc_g_hat_y(b_vect,A_mat,theta_vect,M_mat,y_vect):\n",
    "    a1 =-b_vect\n",
    "    a2 =np.matmul(A_mat,theta_vect.reshape((d,1)))\n",
    "    a3 =np.matmul(M_mat,y_vect.reshape((d,1)))\n",
    "    return a1+a2+a3"
   ]
  },
  {
   "cell_type": "code",
   "execution_count": 5,
   "metadata": {},
   "outputs": [],
   "source": [
    "theta = np.array([1,1,1,1,1,1,10,1]).reshape((d,1))#np.array([random.uniform(-1,1) for i in range(d)]).reshape((d,1))\n",
    "y =  np.array([1,1,1,1,1,1,10,1]).reshape((d,1))#np.array([random.uniform(-1,1) for i in range(d)]).reshape((d,1))"
   ]
  },
  {
   "cell_type": "code",
   "execution_count": 6,
   "metadata": {},
   "outputs": [],
   "source": [
    "g_hat_theta = calc_g_hat_theta(A[0],y)\n",
    "g_hat_y = calc_g_hat_y(b[0],A[0],theta,M[0],y)\n",
    "PF_Plus_theta = PF_Plus.Algo(g_hat_theta)\n",
    "PF_Plus_y = PF_Plus.Algo(g_hat_y)"
   ]
  },
  {
   "cell_type": "code",
   "execution_count": 7,
   "metadata": {},
   "outputs": [
    {
     "name": "stderr",
     "output_type": "stream",
     "text": [
      "/Users/ali/Desktop/project/PFGTD.py:62: RuntimeWarning: overflow encountered in square\n",
      "  s+= g[i]**2\n",
      "/Users/ali/Desktop/project/PFGTD.py:25: RuntimeWarning: overflow encountered in add\n",
      "  self.sum_g_mag += magnitude_squared(g,self.dim)\n",
      "/Users/ali/Desktop/project/PFGTD.py:21: RuntimeWarning: overflow encountered in square\n",
      "  self.sum_m_squared += m ** 2\n",
      "/Users/ali/Desktop/project/PFGTD.py:68: RuntimeWarning: overflow encountered in add\n",
      "  s+= g[i]**2\n",
      "/Users/ali/Desktop/project/PFGTD.py:62: RuntimeWarning: overflow encountered in add\n",
      "  s+= g[i]**2\n"
     ]
    }
   ],
   "source": [
    "thetas = [theta]\n",
    "ys = [y]\n",
    "for i in range(1,stepCount):\n",
    "    theta = PF_Plus_theta.getWeight()\n",
    "    y = PF_Plus_y.getWeight()\n",
    "    thetas.append(theta)\n",
    "    ys.append(y)\n",
    "    g_hat_theta = calc_g_hat_theta(A[i],y)\n",
    "    g_hat_y = calc_g_hat_y(b[i],A[i],theta,M[i],y)\n",
    "    PF_Plus_theta.update(g_hat_theta)\n",
    "    PF_Plus_y.update(g_hat_y)"
   ]
  },
  {
   "cell_type": "code",
   "execution_count": 8,
   "metadata": {},
   "outputs": [
    {
     "data": {
      "text/plain": [
       "[<matplotlib.lines.Line2D at 0x7fe77d790880>]"
      ]
     },
     "execution_count": 8,
     "metadata": {},
     "output_type": "execute_result"
    },
    {
     "data": {
      "image/png": "[encoded data removed]",
      "text/plain": [
       "<Figure size 432x288 with 1 Axes>"
      ]
     },
     "metadata": {
      "needs_background": "light"
     },
     "output_type": "display_data"
    }
   ],
   "source": [
    "plt.plot(range(stepCount),np.array(thetas)[:,0])"
   ]
  },
  {
   "cell_type": "code",
   "execution_count": 9,
   "metadata": {},
   "outputs": [
    {
     "data": {
      "text/plain": [
       "[<matplotlib.lines.Line2D at 0x7fe77d90c0d0>]"
      ]
     },
     "execution_count": 9,
     "metadata": {},
     "output_type": "execute_result"
    },
    {
     "data": {
      "image/png": "[encoded data removed]",
      "text/plain": [
       "<Figure size 432x288 with 1 Axes>"
      ]
     },
     "metadata": {
      "needs_background": "light"
     },
     "output_type": "display_data"
    }
   ],
   "source": [
    "plt.plot(range(stepCount),np.array(thetas)[:,1])"
   ]
  },
  {
   "cell_type": "code",
   "execution_count": 10,
   "metadata": {},
   "outputs": [
    {
     "data": {
      "text/plain": [
       "[<matplotlib.lines.Line2D at 0x7fe77d9609d0>]"
      ]
     },
     "execution_count": 10,
     "metadata": {},
     "output_type": "execute_result"
    },
    {
     "data": {
      "image/png": "[encoded data removed]",
      "text/plain": [
       "<Figure size 432x288 with 1 Axes>"
      ]
     },
     "metadata": {
      "needs_background": "light"
     },
     "output_type": "display_data"
    }
   ],
   "source": [
    "plt.plot(range(stepCount),np.array(thetas)[:,2])"
   ]
  },
  {
   "cell_type": "code",
   "execution_count": 11,
   "metadata": {},
   "outputs": [
    {
     "data": {
      "text/plain": [
       "[<matplotlib.lines.Line2D at 0x7fe77d9b78e0>]"
      ]
     },
     "execution_count": 11,
     "metadata": {},
     "output_type": "execute_result"
    },
    {
     "data": {
      "image/png": "[encoded data removed]",
      "text/plain": [
       "<Figure size 432x288 with 1 Axes>"
      ]
     },
     "metadata": {
      "needs_background": "light"
     },
     "output_type": "display_data"
    }
   ],
   "source": [
    "plt.plot(range(stepCount),np.array(thetas)[:,3])"
   ]
  },
  {
   "cell_type": "code",
   "execution_count": 12,
   "metadata": {},
   "outputs": [
    {
     "data": {
      "text/plain": [
       "[<matplotlib.lines.Line2D at 0x7fe77da03c40>]"
      ]
     },
     "execution_count": 12,
     "metadata": {},
     "output_type": "execute_result"
    },
    {
     "data": {
      "image/png": "[encoded data removed]",
      "text/plain": [
       "<Figure size 432x288 with 1 Axes>"
      ]
     },
     "metadata": {
      "needs_background": "light"
     },
     "output_type": "display_data"
    }
   ],
   "source": [
    "plt.plot(range(stepCount),np.array(thetas)[:,4])"
   ]
  },
  {
   "cell_type": "code",
   "execution_count": 13,
   "metadata": {},
   "outputs": [
    {
     "data": {
      "text/plain": [
       "[<matplotlib.lines.Line2D at 0x7fe77da5d460>]"
      ]
     },
     "execution_count": 13,
     "metadata": {},
     "output_type": "execute_result"
    },
    {
     "data": {
      "image/png": "[encoded data removed]",
      "text/plain": [
       "<Figure size 432x288 with 1 Axes>"
      ]
     },
     "metadata": {
      "needs_background": "light"
     },
     "output_type": "display_data"
    }
   ],
   "source": [
    "plt.plot(range(stepCount),np.array(thetas)[:,5])"
   ]
  },
  {
   "cell_type": "code",
   "execution_count": 14,
   "metadata": {},
   "outputs": [
    {
     "data": {
      "text/plain": [
       "[<matplotlib.lines.Line2D at 0x7fe77daadbe0>]"
      ]
     },
     "execution_count": 14,
     "metadata": {},
     "output_type": "execute_result"
    },
    {
     "data": {
      "image/png": "[encoded data removed]",
      "text/plain": [
       "<Figure size 432x288 with 1 Axes>"
      ]
     },
     "metadata": {
      "needs_background": "light"
     },
     "output_type": "display_data"
    }
   ],
   "source": [
    "plt.plot(range(stepCount),np.array(thetas)[:,6])"
   ]
  },
  {
   "cell_type": "code",
   "execution_count": 15,
   "metadata": {},
   "outputs": [
    {
     "data": {
      "text/plain": [
       "[<matplotlib.lines.Line2D at 0x7fe77db0f190>]"
      ]
     },
     "execution_count": 15,
     "metadata": {},
     "output_type": "execute_result"
    },
    {
     "data": {
      "image/png": "[encoded data removed]",
      "text/plain": [
       "<Figure size 432x288 with 1 Axes>"
      ]
     },
     "metadata": {
      "needs_background": "light"
     },
     "output_type": "display_data"
    }
   ],
   "source": [
    "plt.plot(range(stepCount),np.array(thetas)[:,7])"
   ]
  }
 ],
 "metadata": {
  "kernelspec": {
   "display_name": "Python 3",
   "language": "python",
   "name": "python3"
  },
  "language_info": {
   "codemirror_mode": {
    "name": "ipython",
    "version": 3
   },
   "file_extension": ".py",
   "mimetype": "text/x-python",
   "name": "python",
   "nbconvert_exporter": "python",
   "pygments_lexer": "ipython3",
   "version": "3.8.3"
  }
 },
 "nbformat": 4,
 "nbformat_minor": 4
}
