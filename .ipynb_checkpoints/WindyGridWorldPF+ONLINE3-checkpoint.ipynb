{
 "cells": [
  {
   "cell_type": "code",
   "execution_count": 1,
   "metadata": {},
   "outputs": [],
   "source": [
    "import WindyGridWorld\n",
    "import random\n",
    "import numpy as np\n",
    "import matplotlib.pyplot as plt\n",
    "import PF_Plus"
   ]
  },
  {
   "cell_type": "code",
   "execution_count": 2,
   "metadata": {},
   "outputs": [],
   "source": [
    "d=320\n",
    "def getFeatures(state,action):\n",
    "    vect = np.zeros((320,1))\n",
    "    if action == actions[0]:\n",
    "        act_val=0\n",
    "    elif action == actions[1]:\n",
    "        act_val=1\n",
    "    elif action == actions[2]:\n",
    "        act_val=2\n",
    "    elif action == actions[3]:\n",
    "        act_val=3\n",
    "    else:\n",
    "        print(\"UNKNOWN ACTION\",action)\n",
    "    s_val = state[0]+10*state[1]+act_val*80\n",
    "    vect[s_val]=1\n",
    "    return vect"
   ]
  },
  {
   "cell_type": "code",
   "execution_count": 3,
   "metadata": {},
   "outputs": [],
   "source": [
    "def calc_g_hat_theta(A_mat,y_vect):\n",
    "    return - np.matmul(np.transpose(A_mat),y_vect.reshape((d,1)))\n",
    "def calc_g_hat_y(b_vect,A_mat,theta_vect,M_mat,y_vect):\n",
    "    a1 =-b_vect\n",
    "    a2 =np.matmul(A_mat,theta_vect.reshape((d,1)))\n",
    "    a3 =np.matmul(M_mat,y_vect.reshape((d,1)))\n",
    "    return a1+a2+a3"
   ]
  },
  {
   "cell_type": "code",
   "execution_count": 4,
   "metadata": {},
   "outputs": [],
   "source": [
    "def getQVal(features,weights):\n",
    "    return np.matmul(features.reshape((1,d)),weights.reshape((d,1)))"
   ]
  },
  {
   "cell_type": "code",
   "execution_count": 5,
   "metadata": {},
   "outputs": [],
   "source": [
    "mdp = WindyGridWorld.mdp()\n",
    "actions = [\"UP\",\"DOWN\",\"LEFT\",\"RIGHT\"]"
   ]
  },
  {
   "cell_type": "code",
   "execution_count": 6,
   "metadata": {},
   "outputs": [],
   "source": [
    "def improvePolicy():\n",
    "    for i in range(10):\n",
    "        for j in range(8):\n",
    "            best = None\n",
    "            best_actions=[]\n",
    "            for a in actions:\n",
    "                q = getQVal(getFeatures((i,j),a),theta)\n",
    "                if best==None or q>best:\n",
    "                    best = q\n",
    "                    best_actions = [a]\n",
    "                elif q==best:\n",
    "                    best_actions.append(a)\n",
    "            policy[(i,j)]=random.choice(best_actions)"
   ]
  },
  {
   "cell_type": "code",
   "execution_count": 7,
   "metadata": {},
   "outputs": [],
   "source": [
    "# Initial Policy\n",
    "epsillon = 0.1\n",
    "theta = np.array([random.uniform(-1,1) for i in range(d)]).reshape((d,1))\n",
    "y = np.array([random.uniform(-1,1) for i in range(d)]).reshape((d,1))\n",
    "policy = {}\n",
    "discount = 1.0\n",
    "improvePolicy()"
   ]
  },
  {
   "cell_type": "code",
   "execution_count": 8,
   "metadata": {},
   "outputs": [],
   "source": [
    "# Exp policy fully random\n",
    "b_prob = 1/4\n",
    "# Current policy -> policy, with eps greedy action selection: Each non fav is with prob p = eps/4\n",
    "p_fav = 1-epsillon+epsillon/4\n",
    "p_others = epsillon/4\n",
    "ratio_fav = p_fav/b_prob\n",
    "ratio_others = p_others/b_prob\n",
    "discount = 0.9#0.9?"
   ]
  },
  {
   "cell_type": "code",
   "execution_count": 9,
   "metadata": {},
   "outputs": [
    {
     "data": {
      "text/plain": [
       "[<matplotlib.lines.Line2D at 0x7f961820df70>]"
      ]
     },
     "execution_count": 9,
     "metadata": {},
     "output_type": "execute_result"
    },
    {
     "data": {
      "image/png": "[encoded data removed]",
      "text/plain": [
       "<Figure size 432x288 with 1 Axes>"
      ]
     },
     "metadata": {
      "needs_background": "light"
     },
     "output_type": "display_data"
    }
   ],
   "source": [
    "x1,y1 = np.meshgrid(np.arange(0, 10, 1), np.arange(0, 8, 1))\n",
    "u = np.zeros(y1.shape)\n",
    "v = np.zeros(y1.shape)\n",
    "for i in range(10):\n",
    "    for j in range(8):\n",
    "        if policy[(i,j)]==\"UP\":\n",
    "            u[j,i]=0\n",
    "            v[j,i]=0.1\n",
    "        elif policy[(i,j)]==\"DOWN\":\n",
    "            u[j,i]=0\n",
    "            v[j,i]=-0.1\n",
    "        elif policy[(i,j)]==\"RIGHT\":\n",
    "            u[j,i]=0.1\n",
    "            v[j,i]=0\n",
    "        elif policy[(i,j)]==\"LEFT\":\n",
    "            u[j,i]=-0.1\n",
    "            v[j,i]=0\n",
    "        else:\n",
    "            print(\"UNKNOWN ACTION\",policy[(i,j)])\n",
    "\n",
    "\n",
    "plt.quiver(x1,y1,u,v)\n",
    "plt.plot(0,4,\"go\")\n",
    "plt.plot(7,4,\"yo\")"
   ]
  },
  {
   "cell_type": "code",
   "execution_count": 10,
   "metadata": {},
   "outputs": [],
   "source": [
    "\n",
    "numEp=1000\n",
    "new = mdp.getStartState()\n",
    "path = [\"RIGHT\"]*9+[\"UP\"]*4+2*[\"LEFT\"]\n",
    "s=0\n",
    "\n",
    "prev = new\n",
    "a = path[s]\n",
    "if policy[new] ==a:\n",
    "    ratio =ratio_fav\n",
    "else:\n",
    "    ratio = ratio_others\n",
    "new,r = mdp.getTransition(new,a)\n",
    "if r == -1:\n",
    "    r= 0\n",
    "else:\n",
    "    r=1\n",
    "oldFeatures = getFeatures(prev,a)\n",
    "newFeatures = getFeatures(new,policy[new])\n",
    "temp = oldFeatures - discount * newFeatures\n",
    "A_current = np.matmul(ratio*oldFeatures.reshape((d,1)),temp.reshape((1,d)))\n",
    "b_current = r*ratio*oldFeatures\n",
    "M_current = np.matmul(oldFeatures.reshape((d,1)),oldFeatures.reshape((1,d)))\n",
    "\n",
    "\n",
    "g_hat_theta = calc_g_hat_theta(A_current,y)\n",
    "g_hat_y = calc_g_hat_y(b_current,A_current,theta,M_current,y)\n",
    "PF_Plus_theta = PF_Plus.Algo(g_hat_theta,d,B=\"ZERO\")\n",
    "PF_Plus_y = PF_Plus.Algo(g_hat_y,d,B=\"ZERO\")\n",
    "for e in range(numEp):\n",
    "    \n",
    "    while 1:\n",
    "        s+=1\n",
    "        prev = new\n",
    "        a = path[s]\n",
    "        if policy[new] == a:\n",
    "            ratio =ratio_fav\n",
    "        else:\n",
    "            ratio = ratio_others\n",
    "        new,r = mdp.getTransition(new,a)\n",
    "        if r ==0:\n",
    "            r=1\n",
    "        else:\n",
    "            r=0\n",
    "        oldFeatures = getFeatures(prev,a)\n",
    "        newFeatures = getFeatures(new,policy[new])\n",
    "        temp = oldFeatures - discount * newFeatures\n",
    "        A_current = np.matmul(ratio*oldFeatures.reshape((d,1)),temp.reshape((1,d)))\n",
    "        b_current = r*ratio*oldFeatures\n",
    "        M_current = np.matmul(oldFeatures.reshape((d,1)),oldFeatures.reshape((1,d)))\n",
    "        theta = PF_Plus_theta.getWeight()\n",
    "        y = PF_Plus_y.getWeight()\n",
    "        improvePolicy()\n",
    "        g_hat_theta = calc_g_hat_theta(A_current,y)\n",
    "        g_hat_y = calc_g_hat_y(b_current,A_current,theta,M_current,y)\n",
    "        PF_Plus_theta.update(g_hat_theta)\n",
    "        PF_Plus_y.update(g_hat_y)\n",
    "        if r == 1:\n",
    "            break\n",
    "    new = mdp.getStartState()\n",
    "    s=-1"
   ]
  },
  {
   "cell_type": "code",
   "execution_count": 11,
   "metadata": {},
   "outputs": [
    {
     "data": {
      "text/plain": [
       "[<matplotlib.lines.Line2D at 0x7f95fc743640>]"
      ]
     },
     "execution_count": 11,
     "metadata": {},
     "output_type": "execute_result"
    },
    {
     "data": {
      "image/png": "[encoded data removed]",
      "text/plain": [
       "<Figure size 432x288 with 1 Axes>"
      ]
     },
     "metadata": {
      "needs_background": "light"
     },
     "output_type": "display_data"
    }
   ],
   "source": [
    "improvePolicy()\n",
    "x1,y1 = np.meshgrid(np.arange(0, 10, 1), np.arange(0, 8, 1))\n",
    "u = np.zeros(y1.shape)\n",
    "v = np.zeros(y1.shape)\n",
    "for i in range(10):\n",
    "    for j in range(8):\n",
    "        if policy[(i,j)]==\"UP\":\n",
    "            u[j,i]=0\n",
    "            v[j,i]=0.1\n",
    "        elif policy[(i,j)]==\"DOWN\":\n",
    "            u[j,i]=0\n",
    "            v[j,i]=-0.1\n",
    "        elif policy[(i,j)]==\"RIGHT\":\n",
    "            u[j,i]=0.1\n",
    "            v[j,i]=0\n",
    "        elif policy[(i,j)]==\"LEFT\":\n",
    "            u[j,i]=-0.1\n",
    "            v[j,i]=0\n",
    "        else:\n",
    "            print(\"UNKNOWN ACTION\",policy[(i,j)])\n",
    "\n",
    "\n",
    "plt.quiver(x1,y1,u,v)\n",
    "plt.plot(0,4,\"go\")\n",
    "plt.plot(7,4,\"yo\")"
   ]
  },
  {
   "cell_type": "code",
   "execution_count": 12,
   "metadata": {},
   "outputs": [
    {
     "data": {
      "text/plain": [
       "array([[ 0.17132606,  0.17132606,  0.17132606,  0.17132606,  0.17132606,\n",
       "         0.17132606,  0.17132606,  0.17132606,  0.17132606,  0.17132606,\n",
       "         0.17132606,  0.17132606,  0.17132606,  0.17132606,  0.17132606,\n",
       "         0.17132606,  0.17132606,  0.17132606,  0.17132606,  0.17132606,\n",
       "         0.17132606,  0.17132606,  0.17132606,  0.17132606,  0.17132606,\n",
       "         0.17132606,  0.17132606,  0.17132606,  0.17132606,  0.17132606,\n",
       "         0.17132606,  0.17132606,  0.17132606,  0.17132606,  0.17132606,\n",
       "         0.17132606,  0.17132606,  0.17132606, -0.0587068 ,  0.26477653,\n",
       "         0.17132606,  0.17292156,  0.15705454,  0.05185251,  0.17132606,\n",
       "         0.17132606,  0.17132606, -0.61469074,  0.17132606,  0.09875943,\n",
       "         0.17132606,  0.17132606,  0.17132606,  0.17132606, -0.02773641,\n",
       "         0.17132606,  0.17132606,  0.17132606,  0.17132606,  0.10773691,\n",
       "         0.17132606,  0.17132606,  0.17132606,  0.17132606,  0.17132606,\n",
       "        -0.04033154,  0.17132606,  0.17132606,  0.17132606,  0.14696329,\n",
       "         0.17132606,  0.17132606,  0.17132606,  0.17132606,  0.17132606,\n",
       "         0.17132606,  0.12706804,  0.02225217, -0.01918459,  0.1858734 ,\n",
       "         0.17132606,  0.17132606,  0.17132606,  0.17132606,  0.17132606,\n",
       "         0.17132606,  0.17132606,  0.17132606,  0.17132606,  0.17132606,\n",
       "         0.17132606,  0.17132606,  0.17132606,  0.17132606,  0.17132606,\n",
       "         0.17132606,  0.17132606,  0.17132606,  0.17132606,  0.17132606,\n",
       "         0.17132606,  0.17132606,  0.17132606,  0.17132606,  0.17132606,\n",
       "         0.17132606,  0.17132606,  0.17132606,  0.17132606,  0.17132606,\n",
       "         0.17132606,  0.17132606,  0.17132606,  0.17132606,  0.17132606,\n",
       "         0.17132606,  0.17132606,  0.17132606,  0.21867587, -0.00336529,\n",
       "         0.17132606,  0.12429413,  0.01677997, -0.057419  ,  0.17132606,\n",
       "         0.17132606,  0.17132606, -0.8782285 ,  0.17132606,  0.10040304,\n",
       "         0.17132606,  0.17132606,  0.17132606,  0.17132606, -0.09055351,\n",
       "         0.17132606,  0.17132606,  0.17132606,  0.17132606,  0.06237917,\n",
       "         0.17132606,  0.17132606,  0.17132606,  0.17132606,  0.17132606,\n",
       "         0.08812267,  0.17132606,  0.17132606,  0.17132606,  0.14233794,\n",
       "         0.17132606,  0.17132606,  0.17132606,  0.17132606,  0.17132606,\n",
       "         0.17132606,  0.11529201,  0.11832152, -0.03572212,  0.02631253,\n",
       "         0.17132606,  0.17132606,  0.17132606,  0.17132606,  0.17132606,\n",
       "         0.17132606,  0.17132606,  0.17132606,  0.17132606,  0.17132606,\n",
       "         0.17132606,  0.17132606,  0.17132606,  0.17132606,  0.17132606,\n",
       "         0.17132606,  0.17132606,  0.17132606,  0.17132606,  0.17132606,\n",
       "         0.17132606,  0.17132606,  0.17132606,  0.17132606,  0.17132606,\n",
       "         0.17132606,  0.17132606,  0.17132606,  0.17132606,  0.17132606,\n",
       "         0.17132606,  0.17132606,  0.17132606,  0.17132606,  0.17132606,\n",
       "         0.17132606,  0.17132606,  0.17132606,  0.52214409,  0.2616299 ,\n",
       "         0.17132606,  0.09345647,  0.13932387,  0.18699249,  0.17132606,\n",
       "         0.17132606,  0.17132606, -0.87454466,  0.17132606,  0.09258766,\n",
       "         0.17132606,  0.17132606,  0.17132606,  0.17132606,  0.06297832,\n",
       "         0.17132606,  0.17132606,  0.17132606,  0.17132606,  0.11199041,\n",
       "         0.17132606,  0.17132606,  0.17132606,  0.17132606,  0.17132606,\n",
       "         0.1209744 ,  0.17132606,  0.17132606,  0.17132606,  0.15404319,\n",
       "         0.17132606,  0.17132606,  0.17132606,  0.17132606,  0.17132606,\n",
       "         0.17132606,  0.14087988,  0.13337536,  0.05869692, -0.01336727,\n",
       "         0.17132606,  0.17132606,  0.17132606,  0.17132606,  0.17132606,\n",
       "         0.17132606,  0.17132606,  0.17132606,  0.17132606,  0.17132606,\n",
       "         0.17132606,  0.17132606,  0.17132606,  0.17132606,  0.17132606,\n",
       "         0.17132606,  0.17132606,  0.17132606,  0.17132606,  0.17132606,\n",
       "         0.17132606,  0.17132606,  0.17132606,  0.17132606,  0.17132606,\n",
       "         0.17132606,  0.17132606,  0.17132606,  0.17132606,  0.17132606,\n",
       "         0.17132606,  0.17132606,  0.17132606,  0.17132606,  0.17132606,\n",
       "         0.17132606,  0.17132606,  0.17132606, -0.07988324,  0.03296578,\n",
       "         0.16635136,  0.16418461,  0.11714798,  0.04890649,  0.17132606,\n",
       "         0.17132606,  0.17132606, -0.87784894,  0.17132606,  0.09333272,\n",
       "         0.17132606,  0.17132606,  0.17132606,  0.17132606,  0.09675304,\n",
       "         0.17132606,  0.17132606,  0.17132606,  0.17132606,  0.13361679,\n",
       "         0.17132606,  0.17132606,  0.17132606,  0.17132606,  0.17132606,\n",
       "         0.17784111,  0.17132606,  0.17132606,  0.17132606,  0.10902949,\n",
       "         0.17132606,  0.17132606,  0.17132606,  0.17132606,  0.17132606,\n",
       "         0.17132606,  0.17868729,  0.16430807,  0.14379438,  0.11414375]])"
      ]
     },
     "execution_count": 12,
     "metadata": {},
     "output_type": "execute_result"
    }
   ],
   "source": [
    "np.transpose(theta)"
   ]
  },
  {
   "cell_type": "code",
   "execution_count": null,
   "metadata": {},
   "outputs": [],
   "source": []
  }
 ],
 "metadata": {
  "kernelspec": {
   "display_name": "Python 3",
   "language": "python",
   "name": "python3"
  },
  "language_info": {
   "codemirror_mode": {
    "name": "ipython",
    "version": 3
   },
   "file_extension": ".py",
   "mimetype": "text/x-python",
   "name": "python",
   "nbconvert_exporter": "python",
   "pygments_lexer": "ipython3",
   "version": "3.8.3"
  }
 },
 "nbformat": 4,
 "nbformat_minor": 4
}
