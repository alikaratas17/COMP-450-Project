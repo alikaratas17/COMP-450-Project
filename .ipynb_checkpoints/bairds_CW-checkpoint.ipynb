{
 "cells": [
  {
   "cell_type": "code",
   "execution_count": 1,
   "metadata": {},
   "outputs": [],
   "source": [
    "import numpy as np\n",
    "import random\n",
    "import matplotlib.pyplot as plt\n",
    "import bairds_mdp\n",
    "import CWPFGTD"
   ]
  },
  {
   "cell_type": "code",
   "execution_count": 2,
   "metadata": {
    "scrolled": true
   },
   "outputs": [],
   "source": [
    "mdp = bairds_mdp.MDP()\n",
    "stepCount = 100000\n",
    "Transitions = []\n",
    "current = random.randint(1,7)\n",
    "newFeatures = np.array(mdp.getFeatures(current))\n",
    "reward = 0\n",
    "discount = mdp.getDiscountFactor()\n",
    "for i in range(stepCount):\n",
    "    prev = current\n",
    "    oldFeatures = newFeatures\n",
    "    current,ratio = mdp.nextState(current)\n",
    "    newFeatures = np.array(mdp.getFeatures(current))\n",
    "    sample = (ratio,reward,oldFeatures,newFeatures)\n",
    "    Transitions.append(sample)"
   ]
  },
  {
   "cell_type": "code",
   "execution_count": 3,
   "metadata": {},
   "outputs": [],
   "source": [
    "A = []\n",
    "b = []\n",
    "d = 8\n",
    "M = []\n",
    "for i in range(stepCount):\n",
    "    sample = Transitions[i]\n",
    "    temp = sample[2] - discount * sample[3]\n",
    "    result_A = np.matmul(sample[0]*sample[2].reshape((d,1)),temp.reshape((1,d)))\n",
    "    A.append(result_A)\n",
    "    result_b = sample[1]*sample[0]*sample[3]\n",
    "    b.append(result_b)\n",
    "    result_M = np.matmul(sample[2].reshape((d,1)),sample[2].reshape((1,d)))\n",
    "    M.append(result_M)"
   ]
  },
  {
   "cell_type": "code",
   "execution_count": 4,
   "metadata": {},
   "outputs": [],
   "source": [
    "def calc_g_hat_theta(A_mat,y_vect):\n",
    "    return - np.matmul(np.transpose(A_mat),y_vect.reshape((d,1)))\n",
    "def calc_g_hat_y(b_vect,A_mat,theta_vect,M_mat,y_vect):\n",
    "    a1 =-b_vect\n",
    "    a2 =np.matmul(A_mat,theta_vect.reshape((d,1)))\n",
    "    a3 =np.matmul(M_mat,y_vect.reshape((d,1)))\n",
    "    return a1+a2+a3"
   ]
  },
  {
   "cell_type": "code",
   "execution_count": 5,
   "metadata": {},
   "outputs": [],
   "source": [
    "theta = np.array([1,1,1,1,1,1,10,1]).reshape((d,1))#np.array([random.uniform(-1,1) for i in range(d)]).reshape((d,1))\n",
    "y =  np.array([1,1,1,1,1,1,10,1]).reshape((d,1))#np.array([random.uniform(-1,1) for i in range(d)]).reshape((d,1))"
   ]
  },
  {
   "cell_type": "code",
   "execution_count": 6,
   "metadata": {},
   "outputs": [],
   "source": [
    "g_hat_theta = calc_g_hat_theta(A[0],y)\n",
    "g_hat_y = calc_g_hat_y(b[0],A[0],theta,M[0],y)\n",
    "CW_theta = CWPFGTD.Algo(g_hat_theta)\n",
    "CW_y = CWPFGTD.Algo(g_hat_y)"
   ]
  },
  {
   "cell_type": "code",
   "execution_count": 7,
   "metadata": {},
   "outputs": [],
   "source": [
    "thetas = [theta]\n",
    "ys = [y]\n",
    "for i in range(1,stepCount):\n",
    "    theta = CW_theta.getWeight()\n",
    "    y = CW_y.getWeight()\n",
    "    thetas.append(theta)\n",
    "    ys.append(y)\n",
    "    g_hat_theta = calc_g_hat_theta(A[i],y)\n",
    "    g_hat_y = calc_g_hat_y(b[i],A[i],theta,M[i],y)\n",
    "    CW_theta.update(g_hat_theta)\n",
    "    CW_y.update(g_hat_y)"
   ]
  },
  {
   "cell_type": "code",
   "execution_count": 16,
   "metadata": {},
   "outputs": [
    {
     "data": {
      "text/plain": [
       "[<matplotlib.lines.Line2D at 0x7ff7e3a17430>]"
      ]
     },
     "execution_count": 16,
     "metadata": {},
     "output_type": "execute_result"
    },
    {
     "data": {
      "image/png": "[encoded data removed]",
      "text/plain": [
       "<Figure size 432x288 with 1 Axes>"
      ]
     },
     "metadata": {
      "needs_background": "light"
     },
     "output_type": "display_data"
    }
   ],
   "source": [
    "plt.plot(range(stepCount),np.array(thetas)[:,0])"
   ]
  },
  {
   "cell_type": "code",
   "execution_count": 17,
   "metadata": {},
   "outputs": [
    {
     "data": {
      "text/plain": [
       "[<matplotlib.lines.Line2D at 0x7ff7e11c5af0>]"
      ]
     },
     "execution_count": 17,
     "metadata": {},
     "output_type": "execute_result"
    },
    {
     "data": {
      "image/png": "[encoded data removed]",
      "text/plain": [
       "<Figure size 432x288 with 1 Axes>"
      ]
     },
     "metadata": {
      "needs_background": "light"
     },
     "output_type": "display_data"
    }
   ],
   "source": [
    "plt.plot(range(stepCount),np.array(thetas)[:,1])"
   ]
  },
  {
   "cell_type": "code",
   "execution_count": 18,
   "metadata": {},
   "outputs": [
    {
     "data": {
      "text/plain": [
       "[<matplotlib.lines.Line2D at 0x7ff7e1c52c40>]"
      ]
     },
     "execution_count": 18,
     "metadata": {},
     "output_type": "execute_result"
    },
    {
     "data": {
      "image/png": "[encoded data removed]",
      "text/plain": [
       "<Figure size 432x288 with 1 Axes>"
      ]
     },
     "metadata": {
      "needs_background": "light"
     },
     "output_type": "display_data"
    }
   ],
   "source": [
    "plt.plot(range(stepCount),np.array(thetas)[:,2])"
   ]
  },
  {
   "cell_type": "code",
   "execution_count": 19,
   "metadata": {},
   "outputs": [
    {
     "data": {
      "text/plain": [
       "[<matplotlib.lines.Line2D at 0x7ff7c6a247f0>]"
      ]
     },
     "execution_count": 19,
     "metadata": {},
     "output_type": "execute_result"
    },
    {
     "data": {
      "image/png": "[encoded data removed]",
      "text/plain": [
       "<Figure size 432x288 with 1 Axes>"
      ]
     },
     "metadata": {
      "needs_background": "light"
     },
     "output_type": "display_data"
    }
   ],
   "source": [
    "plt.plot(range(stepCount),np.array(thetas)[:,3])"
   ]
  },
  {
   "cell_type": "code",
   "execution_count": 20,
   "metadata": {},
   "outputs": [
    {
     "data": {
      "text/plain": [
       "[<matplotlib.lines.Line2D at 0x7ff7c6a7f400>]"
      ]
     },
     "execution_count": 20,
     "metadata": {},
     "output_type": "execute_result"
    },
    {
     "data": {
      "image/png": "[encoded data removed]",
      "text/plain": [
       "<Figure size 432x288 with 1 Axes>"
      ]
     },
     "metadata": {
      "needs_background": "light"
     },
     "output_type": "display_data"
    }
   ],
   "source": [
    "plt.plot(range(stepCount),np.array(thetas)[:,4])"
   ]
  },
  {
   "cell_type": "code",
   "execution_count": 21,
   "metadata": {},
   "outputs": [
    {
     "data": {
      "text/plain": [
       "[<matplotlib.lines.Line2D at 0x7ff7c6acaa90>]"
      ]
     },
     "execution_count": 21,
     "metadata": {},
     "output_type": "execute_result"
    },
    {
     "data": {
      "image/png": "[encoded data removed]",
      "text/plain": [
       "<Figure size 432x288 with 1 Axes>"
      ]
     },
     "metadata": {
      "needs_background": "light"
     },
     "output_type": "display_data"
    }
   ],
   "source": [
    "plt.plot(range(stepCount),np.array(thetas)[:,5])"
   ]
  },
  {
   "cell_type": "code",
   "execution_count": 22,
   "metadata": {},
   "outputs": [
    {
     "data": {
      "text/plain": [
       "[<matplotlib.lines.Line2D at 0x7ff7c78a9be0>]"
      ]
     },
     "execution_count": 22,
     "metadata": {},
     "output_type": "execute_result"
    },
    {
     "data": {
      "image/png": "[encoded data removed]",
      "text/plain": [
       "<Figure size 432x288 with 1 Axes>"
      ]
     },
     "metadata": {
      "needs_background": "light"
     },
     "output_type": "display_data"
    }
   ],
   "source": [
    "plt.plot(range(stepCount),np.array(thetas)[:,6])"
   ]
  },
  {
   "cell_type": "code",
   "execution_count": 23,
   "metadata": {},
   "outputs": [
    {
     "data": {
      "text/plain": [
       "[<matplotlib.lines.Line2D at 0x7ff7c7905280>]"
      ]
     },
     "execution_count": 23,
     "metadata": {},
     "output_type": "execute_result"
    },
    {
     "data": {
      "image/png": "[encoded data removed]",
      "text/plain": [
       "<Figure size 432x288 with 1 Axes>"
      ]
     },
     "metadata": {
      "needs_background": "light"
     },
     "output_type": "display_data"
    }
   ],
   "source": [
    "plt.plot(range(stepCount),np.array(thetas)[:,7])"
   ]
  },
  {
   "cell_type": "code",
   "execution_count": null,
   "metadata": {},
   "outputs": [],
   "source": []
  }
 ],
 "metadata": {
  "kernelspec": {
   "display_name": "Python 3",
   "language": "python",
   "name": "python3"
  },
  "language_info": {
   "codemirror_mode": {
    "name": "ipython",
    "version": 3
   },
   "file_extension": ".py",
   "mimetype": "text/x-python",
   "name": "python",
   "nbconvert_exporter": "python",
   "pygments_lexer": "ipython3",
   "version": "3.8.3"
  }
 },
 "nbformat": 4,
 "nbformat_minor": 4
}
