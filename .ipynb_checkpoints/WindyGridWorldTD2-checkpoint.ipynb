{
 "cells": [
  {
   "cell_type": "code",
   "execution_count": 1,
   "metadata": {},
   "outputs": [],
   "source": [
    "import WindyGridWorld2\n",
    "import random\n",
    "import numpy as np\n",
    "import matplotlib.pyplot as plt\n",
    "import updaters"
   ]
  },
  {
   "cell_type": "code",
   "execution_count": 2,
   "metadata": {},
   "outputs": [],
   "source": [
    "d=320\n",
    "def getFeatures(state,action):\n",
    "    vect = np.zeros((320,1))\n",
    "    if action == actions[0]:\n",
    "        act_val=0\n",
    "    elif action == actions[1]:\n",
    "        act_val=1\n",
    "    elif action == actions[2]:\n",
    "        act_val=2\n",
    "    elif action == actions[3]:\n",
    "        act_val=3\n",
    "    else:\n",
    "        print(\"UNKNOWN ACTION\",action)\n",
    "    s_val = state[0]+10*state[1]+act_val*80\n",
    "    vect[s_val]=1\n",
    "    return vect"
   ]
  },
  {
   "cell_type": "code",
   "execution_count": 3,
   "metadata": {},
   "outputs": [],
   "source": [
    "def getQVal(features,weights):\n",
    "    return np.matmul(features.reshape((1,d)),weights.reshape((d,1)))"
   ]
  },
  {
   "cell_type": "code",
   "execution_count": 4,
   "metadata": {},
   "outputs": [],
   "source": [
    "mdp = WindyGridWorld2.mdp()\n",
    "actions = [\"UP\",\"DOWN\",\"LEFT\",\"RIGHT\"]"
   ]
  },
  {
   "cell_type": "code",
   "execution_count": 5,
   "metadata": {},
   "outputs": [],
   "source": [
    "# Initial Policy\n",
    "epsillon = 0.3\n",
    "weights = np.zeros((d,1))#np.array([random.uniform(-1,1) for i in range(d)]).reshape((d,1))\n",
    "policy = {}\n",
    "for i in range(10):\n",
    "    for j in range(8):\n",
    "        best = None\n",
    "        best_action=None\n",
    "        for a in actions:\n",
    "            q = getQVal(getFeatures((i,j),a),weights)\n",
    "            if best==None or q>best:\n",
    "                best = q\n",
    "                best_action = a\n",
    "        policy[(i,j)]=best_action"
   ]
  },
  {
   "cell_type": "code",
   "execution_count": 6,
   "metadata": {},
   "outputs": [],
   "source": [
    "# Exp policy fully random\n",
    "b_prob = 1/4\n",
    "# Current policy -> policy, with eps greedy action selection: Each non fav is with prob p = eps/4\n",
    "p_fav = 1-epsillon+epsillon/4\n",
    "p_others = epsillon/4\n",
    "ratio_fav = p_fav/b_prob\n",
    "ratio_others = p_others/b_prob\n",
    "discount = 1.0"
   ]
  },
  {
   "cell_type": "code",
   "execution_count": 7,
   "metadata": {},
   "outputs": [],
   "source": [
    "def improvePolicy():\n",
    "    for i in range(10):\n",
    "        for j in range(8):\n",
    "            best = None\n",
    "            best_action=None\n",
    "            for a in actions:\n",
    "                q = getQVal(getFeatures((i,j),a),weights)\n",
    "                if best==None or q>best:\n",
    "                    best = q\n",
    "                    best_action = a\n",
    "            policy[(i,j)]=best_action"
   ]
  },
  {
   "cell_type": "code",
   "execution_count": 8,
   "metadata": {},
   "outputs": [],
   "source": [
    "def improvePolicyForOne(state):\n",
    "    best = None\n",
    "    best_action=None\n",
    "    for a in actions:\n",
    "        q = getQVal(getFeatures(state,a),weights)\n",
    "        if best==None or q>best:\n",
    "            best = q\n",
    "            best_action = a\n",
    "    policy[state]=best_action"
   ]
  },
  {
   "cell_type": "code",
   "execution_count": 9,
   "metadata": {},
   "outputs": [],
   "source": [
    "\n",
    "num_eps =100\n",
    "a=0.01\n",
    "updater = updaters.OffPolicyTD(a,discount,dim=320)\n",
    "for e in range(num_eps):\n",
    "    state = mdp.getStartState()\n",
    "    newFeatures = getFeatures(state,policy[state])\n",
    "    i=0\n",
    "    while 1:\n",
    "        i+=1\n",
    "        prev = state\n",
    "        ac = random.choice(actions)\n",
    "        if ac==policy[state]:\n",
    "            ratio = ratio_fav\n",
    "        else:\n",
    "            ratio = ratio_others\n",
    "        oldFeatures=newFeatures\n",
    "        state,r = mdp.getTransition(state,ac)\n",
    "        newFeatures = getFeatures(state,ac)\n",
    "        #if r==1:\n",
    "        #    print(\"r:\",r)\n",
    "        #    print(\"W\",np.transpose(weights))\n",
    "        #    print(\"Ft\",np.transpose(oldFeatures))\n",
    "        #    print(\"Ft+1\",np.transpose(newFeatures))\n",
    "        #    print(\"ratio\",ratio)\n",
    "            \n",
    "        weights=updater.update(r,weights,oldFeatures,newFeatures,ratio)#,debug =True)\n",
    "        if r==1:\n",
    "            break\n",
    "    #print(np.transpose(weights))"
   ]
  },
  {
   "cell_type": "code",
   "execution_count": 10,
   "metadata": {},
   "outputs": [
    {
     "name": "stdout",
     "output_type": "stream",
     "text": [
      "[[9.52506980e-09 1.60960255e-08 3.12297652e-08 6.12444351e-08\n",
      "  9.94336083e-08 1.54107770e-07 2.28891868e-07 3.27011232e-07\n",
      "  4.63529434e-07 6.41100292e-07 8.62483572e-09 1.48320060e-08\n",
      "  2.84008104e-08 3.71297127e-08 3.27176994e-08 1.56499039e-08\n",
      "  5.30954148e-09 0.00000000e+00 2.85795120e-07 8.76495618e-07\n",
      "  7.33232717e-09 1.21067928e-08 2.27455623e-08 3.22220412e-08\n",
      "  2.63910653e-08 8.99766675e-09 0.00000000e+00 9.47648655e-09\n",
      "  1.67789516e-07 3.19709517e-06 5.87987997e-09 8.60888632e-09\n",
      "  1.57039993e-08 1.47579538e-08 2.37597185e-09 7.06683133e-10\n",
      "  0.00000000e+00 3.85994092e-09 9.90250931e-08 3.32449335e-05\n",
      "  4.25021406e-09 5.24713491e-09 9.67759274e-09 4.91668675e-09\n",
      "  3.83866472e-09 0.00000000e+00 0.00000000e+00 0.00000000e+00\n",
      "  2.86386266e-07 2.84551184e-04 2.06214872e-09 3.00464249e-09\n",
      "  3.83319121e-09 2.66352028e-09 0.00000000e+00 0.00000000e+00\n",
      "  0.00000000e+00 0.00000000e+00 1.60517971e-02 2.62455535e-03\n",
      "  1.11018008e-09 1.57968525e-09 1.36502315e-09 0.00000000e+00\n",
      "  0.00000000e+00 0.00000000e+00 0.00000000e+00 0.00000000e+00\n",
      "  0.00000000e+00 2.21119834e-04 0.00000000e+00 0.00000000e+00\n",
      "  0.00000000e+00 0.00000000e+00 0.00000000e+00 0.00000000e+00\n",
      "  0.00000000e+00 0.00000000e+00 0.00000000e+00 0.00000000e+00\n",
      "  0.00000000e+00 0.00000000e+00 0.00000000e+00 6.12968341e-08\n",
      "  9.87325205e-08 1.54886534e-07 2.28066025e-07 3.31612518e-07\n",
      "  4.62881962e-07 0.00000000e+00 9.22758915e-09 1.58072240e-08\n",
      "  3.06826334e-08 5.12416016e-08 6.14500962e-08 2.82431075e-08\n",
      "  4.34476442e-09 9.94172002e-08 4.28814835e-07 9.42136173e-07\n",
      "  7.97411449e-09 1.37516818e-08 2.59799158e-08 4.25900767e-08\n",
      "  3.44755337e-08 3.44397284e-08 7.35916193e-10 3.72628666e-08\n",
      "  3.97543617e-07 4.57319207e-06 6.34210205e-09 1.04089376e-08\n",
      "  1.84973704e-08 2.34170267e-08 7.32367925e-09 4.97185652e-10\n",
      "  8.84493836e-10 0.00000000e+00 3.82252596e-07 4.59326923e-05\n",
      "  4.72536149e-09 6.79305545e-09 1.11285448e-08 1.20442895e-08\n",
      "  5.01682246e-09 3.32618722e-10 0.00000000e+00 0.00000000e+00\n",
      "  1.41130025e-06 5.50388049e-04 3.06272736e-09 3.67345413e-09\n",
      "  5.38403492e-09 5.05740320e-09 2.49314562e-10 9.81168730e-13\n",
      "  0.00000000e+00 2.90700004e-03 4.99526073e-02 8.26061278e-03\n",
      "  1.32628713e-09 1.86191518e-09 1.67794729e-09 8.56353450e-10\n",
      "  1.19517631e-10 0.00000000e+00 0.00000000e+00 0.00000000e+00\n",
      "  2.58465486e-04 9.25249076e-04 7.83017596e-10 1.10801138e-09\n",
      "  7.02791845e-10 1.98954230e-10 0.00000000e+00 0.00000000e+00\n",
      "  0.00000000e+00 0.00000000e+00 5.46090570e-04 1.75440741e-04\n",
      "  9.63345531e-09 1.58887162e-08 3.13023992e-08 6.10792636e-08\n",
      "  9.81667045e-08 1.52924521e-07 2.28364057e-07 3.30764976e-07\n",
      "  4.64791241e-07 0.00000000e+00 9.39702153e-09 1.53412252e-08\n",
      "  2.29625155e-08 2.71625842e-08 1.30763863e-08 6.65789394e-09\n",
      "  8.72249707e-09 2.59417561e-07 4.50700939e-07 0.00000000e+00\n",
      "  8.26115087e-09 1.28190420e-08 1.69678337e-08 1.21530941e-08\n",
      "  8.41213496e-09 2.01700344e-11 0.00000000e+00 1.85535378e-07\n",
      "  4.36201271e-07 0.00000000e+00 6.63074249e-09 8.96330366e-09\n",
      "  9.17023454e-09 8.61171978e-09 4.54951774e-10 0.00000000e+00\n",
      "  1.82682618e-09 6.13562139e-08 5.28138074e-07 0.00000000e+00\n",
      "  4.74927358e-09 5.79971548e-09 5.84913594e-09 1.11441033e-09\n",
      "  1.22138874e-09 0.00000000e+00 4.94932359e-12 0.00000000e+00\n",
      "  2.91293679e-06 0.00000000e+00 3.10814754e-09 2.61316206e-09\n",
      "  1.73980110e-09 4.55337659e-10 0.00000000e+00 0.00000000e+00\n",
      "  0.00000000e+00 1.89061705e-02 8.88576349e-02 0.00000000e+00\n",
      "  1.55392709e-09 1.32328359e-09 6.23532515e-10 0.00000000e+00\n",
      "  0.00000000e+00 0.00000000e+00 0.00000000e+00 8.94661815e-06\n",
      "  3.53271068e-04 0.00000000e+00 7.12268853e-10 5.89559492e-10\n",
      "  0.00000000e+00 0.00000000e+00 0.00000000e+00 0.00000000e+00\n",
      "  0.00000000e+00 0.00000000e+00 3.68743812e-03 0.00000000e+00\n",
      "  0.00000000e+00 1.56698041e-08 3.03563553e-08 5.88877328e-08\n",
      "  9.79515340e-08 1.52574507e-07 2.27688524e-07 3.31757515e-07\n",
      "  4.61564877e-07 6.54271727e-07 0.00000000e+00 1.51346724e-08\n",
      "  2.95733877e-08 5.67559637e-08 7.80923389e-08 7.77598857e-08\n",
      "  5.26466769e-08 1.01854068e-09 4.07849394e-08 9.32590162e-07\n",
      "  0.00000000e+00 1.32178513e-08 2.46691339e-08 5.09588553e-08\n",
      "  6.18616012e-08 4.20249313e-08 2.39279248e-08 1.64147698e-09\n",
      "  0.00000000e+00 4.89142942e-06 0.00000000e+00 9.67134926e-09\n",
      "  1.78441720e-08 2.96482135e-08 1.75667226e-08 2.69803051e-09\n",
      "  1.72961879e-08 0.00000000e+00 1.12892941e-09 3.69290520e-05\n",
      "  0.00000000e+00 6.04129140e-09 1.12583129e-08 1.84026952e-08\n",
      "  1.03595053e-08 2.33627406e-09 1.78683690e-10 0.00000000e+00\n",
      "  1.82402989e-07 5.16306128e-04 0.00000000e+00 3.55574217e-09\n",
      "  5.79693200e-09 7.83105123e-09 4.59201363e-10 5.85402632e-11\n",
      "  0.00000000e+00 0.00000000e+00 0.00000000e+00 4.89441157e-03\n",
      "  0.00000000e+00 1.69404574e-09 2.24034482e-09 1.63398032e-09\n",
      "  5.32310361e-10 0.00000000e+00 0.00000000e+00 0.00000000e+00\n",
      "  0.00000000e+00 8.14081049e-04 0.00000000e+00 9.26263609e-10\n",
      "  6.63064108e-10 7.28836258e-10 0.00000000e+00 0.00000000e+00\n",
      "  0.00000000e+00 0.00000000e+00 0.00000000e+00 2.84780239e-05]]\n"
     ]
    }
   ],
   "source": [
    "print(np.transpose(weights))"
   ]
  },
  {
   "cell_type": "code",
   "execution_count": 11,
   "metadata": {
    "scrolled": false
   },
   "outputs": [
    {
     "data": {
      "text/plain": [
       "[<matplotlib.lines.Line2D at 0x7fcde5a6fb20>]"
      ]
     },
     "execution_count": 11,
     "metadata": {},
     "output_type": "execute_result"
    },
    {
     "data": {
      "image/png": "[encoded data removed]",
      "text/plain": [
       "<Figure size 432x288 with 1 Axes>"
      ]
     },
     "metadata": {
      "needs_background": "light"
     },
     "output_type": "display_data"
    }
   ],
   "source": [
    "improvePolicy()\n",
    "x1,y1 = np.meshgrid(np.arange(0, 10, 1), np.arange(0, 8, 1))\n",
    "u = np.zeros(y1.shape)\n",
    "v = np.zeros(y1.shape)\n",
    "for i in range(10):\n",
    "    for j in range(8):\n",
    "        if policy[(i,j)]==\"UP\":\n",
    "            u[j,i]=0\n",
    "            v[j,i]=0.1\n",
    "        elif policy[(i,j)]==\"DOWN\":\n",
    "            u[j,i]=0\n",
    "            v[j,i]=-0.1\n",
    "        elif policy[(i,j)]==\"RIGHT\":\n",
    "            u[j,i]=0.1\n",
    "            v[j,i]=0\n",
    "        elif policy[(i,j)]==\"LEFT\":\n",
    "            u[j,i]=-0.1\n",
    "            v[j,i]=0\n",
    "        else:\n",
    "            print(\"UNKNOWN ACTION\",policy[(i,j)])\n",
    "\n",
    "\n",
    "plt.quiver(x1,y1,u,v)\n",
    "plt.plot(0,4,\"go\")\n",
    "plt.plot(7,4,\"yo\")"
   ]
  },
  {
   "cell_type": "code",
   "execution_count": 14,
   "metadata": {},
   "outputs": [],
   "source": [
    "weights = np.zeros((d,1))"
   ]
  },
  {
   "cell_type": "code",
   "execution_count": 15,
   "metadata": {
    "scrolled": true
   },
   "outputs": [],
   "source": [
    "epsillon *=0.9\n",
    "p_fav = 1-epsillon+epsillon/4\n",
    "p_others = epsillon/4\n",
    "ratio_fav = p_fav/b_prob\n",
    "ratio_others = p_others/b_prob\n",
    "num_eps=1000\n",
    "for e in range(num_eps):\n",
    "    state = mdp.getStartState()\n",
    "    newFeatures = getFeatures(state,policy[state])\n",
    "    i=0\n",
    "    while 1:\n",
    "        i+=1\n",
    "        prev = state\n",
    "        ac = random.choice(actions)\n",
    "        if ac==policy[state]:\n",
    "            ratio = ratio_fav\n",
    "        else:\n",
    "            ratio = ratio_others\n",
    "        oldFeatures=newFeatures\n",
    "        state,r = mdp.getTransition(state,ac)\n",
    "        newFeatures = getFeatures(state,ac)\n",
    "        weights=updater.update(r,weights,oldFeatures,newFeatures,ratio)\n",
    "        if r==1:\n",
    "            break\n",
    "    #print(e,i)"
   ]
  },
  {
   "cell_type": "code",
   "execution_count": 17,
   "metadata": {},
   "outputs": [
    {
     "data": {
      "text/plain": [
       "[<matplotlib.lines.Line2D at 0x7fcde5da3d60>]"
      ]
     },
     "execution_count": 17,
     "metadata": {},
     "output_type": "execute_result"
    },
    {
     "data": {
      "image/png": "[encoded data removed]",
      "text/plain": [
       "<Figure size 432x288 with 1 Axes>"
      ]
     },
     "metadata": {
      "needs_background": "light"
     },
     "output_type": "display_data"
    }
   ],
   "source": [
    "improvePolicy()\n",
    "x1,y1 = np.meshgrid(np.arange(0, 10, 1), np.arange(0, 8, 1))\n",
    "u = np.zeros(y1.shape)\n",
    "v = np.zeros(y1.shape)\n",
    "for i in range(10):\n",
    "    for j in range(8):\n",
    "        if policy[(i,j)]==\"UP\":\n",
    "            u[j,i]=0\n",
    "            v[j,i]=0.1\n",
    "        elif policy[(i,j)]==\"DOWN\":\n",
    "            u[j,i]=0\n",
    "            v[j,i]=-0.1\n",
    "        elif policy[(i,j)]==\"RIGHT\":\n",
    "            u[j,i]=0.1\n",
    "            v[j,i]=0\n",
    "        elif policy[(i,j)]==\"LEFT\":\n",
    "            u[j,i]=-0.1\n",
    "            v[j,i]=0\n",
    "        else:\n",
    "            print(\"UNKNOWN ACTION\",policy[(i,j)])\n",
    "\n",
    "\n",
    "plt.quiver(x1,y1,u,v)\n",
    "plt.plot(0,4,\"go\")\n",
    "plt.plot(7,4,\"yo\")"
   ]
  },
  {
   "cell_type": "code",
   "execution_count": 18,
   "metadata": {
    "scrolled": true
   },
   "outputs": [],
   "source": [
    "improvePolicy()\n",
    "weights = np.zeros((d,1))\n",
    "num_eps=1000\n",
    "for e in range(num_eps):\n",
    "    state = mdp.getStartState()\n",
    "    newFeatures = getFeatures(state,policy[state])\n",
    "    i=0\n",
    "    while 1:\n",
    "        i+=1\n",
    "        prev = state\n",
    "        ac = random.choice(actions)\n",
    "        if ac==policy[state]:\n",
    "            ratio = ratio_fav\n",
    "        else:\n",
    "            ratio = ratio_others\n",
    "        oldFeatures=newFeatures\n",
    "        state,r = mdp.getTransition(state,ac)\n",
    "        newFeatures = getFeatures(state,ac)\n",
    "        weights=updater.update(r,weights,oldFeatures,newFeatures,ratio)\n",
    "        #improvePolicyForOne(prev)\n",
    "        if r==1:\n",
    "            break"
   ]
  },
  {
   "cell_type": "code",
   "execution_count": 19,
   "metadata": {},
   "outputs": [
    {
     "data": {
      "text/plain": [
       "[<matplotlib.lines.Line2D at 0x7fcde5d8e5e0>]"
      ]
     },
     "execution_count": 19,
     "metadata": {},
     "output_type": "execute_result"
    },
    {
     "data": {
      "image/png": "[encoded data removed]",
      "text/plain": [
       "<Figure size 432x288 with 1 Axes>"
      ]
     },
     "metadata": {
      "needs_background": "light"
     },
     "output_type": "display_data"
    }
   ],
   "source": [
    "improvePolicy()\n",
    "x1,y1 = np.meshgrid(np.arange(0, 10, 1), np.arange(0, 8, 1))\n",
    "u = np.zeros(y1.shape)\n",
    "v = np.zeros(y1.shape)\n",
    "for i in range(10):\n",
    "    for j in range(8):\n",
    "        if policy[(i,j)]==\"UP\":\n",
    "            u[j,i]=0\n",
    "            v[j,i]=0.1\n",
    "        elif policy[(i,j)]==\"DOWN\":\n",
    "            u[j,i]=0\n",
    "            v[j,i]=-0.1\n",
    "        elif policy[(i,j)]==\"RIGHT\":\n",
    "            u[j,i]=0.1\n",
    "            v[j,i]=0\n",
    "        elif policy[(i,j)]==\"LEFT\":\n",
    "            u[j,i]=-0.1\n",
    "            v[j,i]=0\n",
    "        else:\n",
    "            print(\"UNKNOWN ACTION\",policy[(i,j)])\n",
    "\n",
    "\n",
    "plt.quiver(x1,y1,u,v)\n",
    "plt.plot(0,4,\"go\")\n",
    "plt.plot(7,4,\"yo\")"
   ]
  },
  {
   "cell_type": "code",
   "execution_count": null,
   "metadata": {},
   "outputs": [],
   "source": [
    "weights = np.zeros((d,1))\n",
    "num_eps=1000\n",
    "for e in range(num_eps):\n",
    "    state = mdp.getStartState()\n",
    "    newFeatures = getFeatures(state,policy[state])\n",
    "    i=0\n",
    "    while 1:\n",
    "        i+=1\n",
    "        prev = state\n",
    "        ac = random.choice(actions)\n",
    "        if ac==policy[state]:\n",
    "            ratio = ratio_fav\n",
    "        else:\n",
    "            ratio = ratio_others\n",
    "        oldFeatures=newFeatures\n",
    "        state,r = mdp.getTransition(state,ac)\n",
    "        newFeatures = getFeatures(state,ac)\n",
    "        weights=updater.update(r,weights,oldFeatures,newFeatures,ratio)\n",
    "        #improvePolicyForOne(prev)\n",
    "        if r==1:\n",
    "            break\n",
    "    #print(e,i)\n",
    "improvePolicy()\n",
    "weights = np.zeros((d,1))"
   ]
  },
  {
   "cell_type": "code",
   "execution_count": null,
   "metadata": {},
   "outputs": [],
   "source": [
    "e"
   ]
  },
  {
   "cell_type": "code",
   "execution_count": null,
   "metadata": {},
   "outputs": [],
   "source": [
    "num_eps=1000\n",
    "for e in range(num_eps):\n",
    "    state = mdp.getStartState()\n",
    "    newFeatures = getFeatures(state,policy[state])\n",
    "    i=0\n",
    "    while 1:\n",
    "        i+=1\n",
    "        prev = state\n",
    "        ac = random.choice(actions)\n",
    "        if ac==policy[state]:\n",
    "            ratio = ratio_fav\n",
    "        else:\n",
    "            ratio = ratio_others\n",
    "        oldFeatures=newFeatures\n",
    "        state,r = mdp.getTransition(state,ac)\n",
    "        newFeatures = getFeatures(state,ac)\n",
    "        weights=updater.update(r,weights,oldFeatures,newFeatures,ratio)\n",
    "        #improvePolicyForOne(prev)\n",
    "        if r==1:\n",
    "            break\n",
    "    #print(e,i)\n",
    "improvePolicy()\n",
    "weights = np.zeros((d,1))"
   ]
  },
  {
   "cell_type": "code",
   "execution_count": null,
   "metadata": {},
   "outputs": [],
   "source": [
    "num_eps=1\n",
    "for e in range(num_eps):\n",
    "    state = mdp.getStartState()\n",
    "    newFeatures = getFeatures(state,policy[state])\n",
    "    i=0\n",
    "    while 1:\n",
    "        i+=1\n",
    "        prev = state\n",
    "        if random.uniform(0,1)>epsillon:\n",
    "            ac = policy[state]\n",
    "        else:\n",
    "            ac = random.choice(actions)\n",
    "        ratio = 1.0\n",
    "        oldFeatures=newFeatures\n",
    "        state,r = mdp.getTransition(state,ac)\n",
    "        newFeatures = getFeatures(state,ac)\n",
    "        weights=updater.update(r,weights,oldFeatures,newFeatures,ratio)\n",
    "        #improvePolicyForOne(prev)\n",
    "        if r==1:\n",
    "            break\n",
    "    print(e,i)"
   ]
  },
  {
   "cell_type": "code",
   "execution_count": 20,
   "metadata": {
    "scrolled": true
   },
   "outputs": [
    {
     "name": "stdout",
     "output_type": "stream",
     "text": [
      "0 2292\n",
      "1 12544\n"
     ]
    }
   ],
   "source": [
    "improvePolicy()\n",
    "weights = np.zeros((d,1))\n",
    "num_eps=2\n",
    "for e in range(num_eps):\n",
    "    state = mdp.getStartState()\n",
    "    newFeatures = getFeatures(state,policy[state])\n",
    "    i=0\n",
    "    while 1:\n",
    "        i+=1\n",
    "        prev = state\n",
    "        if random.uniform(0,1)>epsillon:\n",
    "            ac = policy[state]\n",
    "        else:\n",
    "            ac = random.choice(actions)\n",
    "        ratio = 1.0\n",
    "        oldFeatures=newFeatures\n",
    "        state,r = mdp.getTransition(state,ac)\n",
    "        newFeatures = getFeatures(state,ac)\n",
    "        weights=updater.update(r,weights,oldFeatures,newFeatures,ratio)\n",
    "        #improvePolicyForOne(prev)\n",
    "        if r==1:\n",
    "            break\n",
    "    print(e,i)"
   ]
  },
  {
   "cell_type": "code",
   "execution_count": null,
   "metadata": {},
   "outputs": [],
   "source": [
    "improvePolicy()\n",
    "num_eps=1000\n",
    "for e in range(num_eps):\n",
    "    state = mdp.getStartState()\n",
    "    newFeatures = getFeatures(state,policy[state])\n",
    "    i=0\n",
    "    while 1:\n",
    "        i+=1\n",
    "        prev = state\n",
    "        if random.uniform(0,1)>epsillon:\n",
    "            ac = policy[state]\n",
    "        else:\n",
    "            ac = random.choice(actions)\n",
    "        ratio = 1.0\n",
    "        oldFeatures=newFeatures\n",
    "        state,r = mdp.getTransition(state,ac)\n",
    "        newFeatures = getFeatures(state,ac)\n",
    "        weights=updater.update(r,weights,oldFeatures,newFeatures,ratio)\n",
    "        improvePolicyForOne(prev)\n",
    "        if r==1:\n",
    "            break"
   ]
  },
  {
   "cell_type": "code",
   "execution_count": null,
   "metadata": {},
   "outputs": [],
   "source": [
    "e"
   ]
  },
  {
   "cell_type": "code",
   "execution_count": null,
   "metadata": {},
   "outputs": [],
   "source": [
    "improvePolicy()"
   ]
  },
  {
   "cell_type": "code",
   "execution_count": null,
   "metadata": {},
   "outputs": [],
   "source": [
    "x1,y1 = np.meshgrid(np.arange(0, 10, 1), np.arange(0, 8, 1))\n",
    "u = np.zeros(y1.shape)\n",
    "v = np.zeros(y1.shape)\n",
    "for i in range(10):\n",
    "    for j in range(8):\n",
    "        if policy[(i,j)]==\"UP\":\n",
    "            u[j,i]=0\n",
    "            v[j,i]=0.1\n",
    "        elif policy[(i,j)]==\"DOWN\":\n",
    "            u[j,i]=0\n",
    "            v[j,i]=-0.1\n",
    "        elif policy[(i,j)]==\"RIGHT\":\n",
    "            u[j,i]=0.1\n",
    "            v[j,i]=0\n",
    "        elif policy[(i,j)]==\"LEFT\":\n",
    "            u[j,i]=-0.1\n",
    "            v[j,i]=0\n",
    "        else:\n",
    "            print(\"UNKNOWN ACTION\",policy[(i,j)])\n",
    "\n",
    "\n",
    "plt.quiver(x1,y1,u,v)\n",
    "plt.plot(0,4,\"go\")\n",
    "plt.plot(7,4,\"yo\")"
   ]
  },
  {
   "cell_type": "code",
   "execution_count": null,
   "metadata": {},
   "outputs": [],
   "source": []
  }
 ],
 "metadata": {
  "kernelspec": {
   "display_name": "Python 3",
   "language": "python",
   "name": "python3"
  },
  "language_info": {
   "codemirror_mode": {
    "name": "ipython",
    "version": 3
   },
   "file_extension": ".py",
   "mimetype": "text/x-python",
   "name": "python",
   "nbconvert_exporter": "python",
   "pygments_lexer": "ipython3",
   "version": "3.8.3"
  }
 },
 "nbformat": 4,
 "nbformat_minor": 4
}
