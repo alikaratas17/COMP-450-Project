{
 "cells": [
  {
   "cell_type": "code",
   "execution_count": 1,
   "metadata": {},
   "outputs": [],
   "source": [
    "import WindyGridWorld\n",
    "import random\n",
    "import numpy as np\n",
    "import matplotlib.pyplot as plt\n",
    "import PF_Plus"
   ]
  },
  {
   "cell_type": "code",
   "execution_count": 2,
   "metadata": {},
   "outputs": [],
   "source": [
    "d=320\n",
    "def getFeatures(state,action):\n",
    "    vect = np.zeros((320,1))\n",
    "    if action == actions[0]:\n",
    "        act_val=0\n",
    "    elif action == actions[1]:\n",
    "        act_val=1\n",
    "    elif action == actions[2]:\n",
    "        act_val=2\n",
    "    elif action == actions[3]:\n",
    "        act_val=3\n",
    "    else:\n",
    "        print(\"UNKNOWN ACTION\",action)\n",
    "    s_val = state[0]+10*state[1]+act_val*80\n",
    "    vect[s_val]=1\n",
    "    return vect"
   ]
  },
  {
   "cell_type": "code",
   "execution_count": 3,
   "metadata": {},
   "outputs": [],
   "source": [
    "def calc_g_hat_theta(A_mat,y_vect):\n",
    "    return - np.matmul(np.transpose(A_mat),y_vect.reshape((d,1)))\n",
    "def calc_g_hat_y(b_vect,A_mat,theta_vect,M_mat,y_vect):\n",
    "    a1 =-b_vect\n",
    "    a2 =np.matmul(A_mat,theta_vect.reshape((d,1)))\n",
    "    a3 =np.matmul(M_mat,y_vect.reshape((d,1)))\n",
    "    return a1+a2+a3"
   ]
  },
  {
   "cell_type": "code",
   "execution_count": 4,
   "metadata": {},
   "outputs": [],
   "source": [
    "def getQVal(features,weights):\n",
    "    return np.matmul(features.reshape((1,d)),weights.reshape((d,1)))"
   ]
  },
  {
   "cell_type": "code",
   "execution_count": 5,
   "metadata": {},
   "outputs": [],
   "source": [
    "mdp = WindyGridWorld.mdp()\n",
    "actions = [\"UP\",\"DOWN\",\"LEFT\",\"RIGHT\"]"
   ]
  },
  {
   "cell_type": "code",
   "execution_count": 6,
   "metadata": {},
   "outputs": [],
   "source": [
    "# Initial Policy\n",
    "epsillon = 0.1\n",
    "theta = np.array([random.uniform(-1,1) for i in range(d)]).reshape((d,1))\n",
    "y = np.array([random.uniform(-1,1) for i in range(d)]).reshape((d,1))\n",
    "policy = {}\n",
    "for i in range(10):\n",
    "    for j in range(8):\n",
    "        best = None\n",
    "        best_action=None\n",
    "        for a in actions:\n",
    "            q = getQVal(getFeatures((i,j),a),theta)\n",
    "            if best==None or q>best:\n",
    "                best = q\n",
    "                best_action = a\n",
    "        policy[(i,j)]=best_action"
   ]
  },
  {
   "cell_type": "code",
   "execution_count": 7,
   "metadata": {},
   "outputs": [],
   "source": [
    "# Exp policy fully random\n",
    "b_prob = 1/4\n",
    "# Current policy -> policy, with eps greedy action selection: Each non fav is with prob p = eps/4\n",
    "p_fav = 1-epsillon+epsillon/4\n",
    "p_others = epsillon/4\n",
    "ratio_fav = p_fav/b_prob\n",
    "ratio_others = p_others/b_prob\n",
    "discount = 1.0#0.9?"
   ]
  },
  {
   "cell_type": "code",
   "execution_count": 8,
   "metadata": {},
   "outputs": [],
   "source": [
    "def improvePolicy():\n",
    "    for i in range(10):\n",
    "        for j in range(8):\n",
    "            best = None\n",
    "            best_action=None\n",
    "            for a in actions:\n",
    "                q = getQVal(getFeatures((i,j),a),theta)\n",
    "                if best==None or q>best:\n",
    "                    best = q\n",
    "                    best_action = a\n",
    "            policy[(i,j)]=best_action"
   ]
  },
  {
   "cell_type": "code",
   "execution_count": 9,
   "metadata": {},
   "outputs": [
    {
     "name": "stdout",
     "output_type": "stream",
     "text": [
      "0 1951\n",
      "1 11792\n",
      "2 3104\n",
      "3 4355\n",
      "4 1893\n",
      "5 13781\n",
      "6 25165\n",
      "7 7094\n",
      "8 2965\n",
      "9 1129\n",
      "10 628\n",
      "11 1291\n",
      "12 1698\n",
      "13 4602\n",
      "14 11240\n",
      "15 3060\n",
      "16 5136\n",
      "17 223\n",
      "18 13641\n",
      "19 34434\n",
      "20 41149\n",
      "21 3972\n",
      "22 4420\n",
      "23 6302\n",
      "24 2091\n",
      "25 2371\n",
      "26 1256\n",
      "27 1142\n",
      "28 4915\n",
      "29 1700\n",
      "30 11761\n",
      "31 15402\n",
      "32 2635\n",
      "33 19281\n",
      "34 6512\n",
      "35 1563\n",
      "36 3106\n",
      "37 1199\n",
      "38 7174\n",
      "39 3633\n",
      "40 4778\n",
      "41 1017\n",
      "42 6146\n",
      "43 733\n",
      "44 1247\n",
      "45 9257\n",
      "46 19547\n",
      "47 10131\n",
      "48 8330\n",
      "49 14030\n",
      "50 8915\n",
      "51 20711\n",
      "52 207\n",
      "53 19187\n",
      "54 5122\n"
     ]
    },
    {
     "ename": "KeyboardInterrupt",
     "evalue": "",
     "output_type": "error",
     "traceback": [
      "\u001b[0;31m---------------------------------------------------------------------------\u001b[0m",
      "\u001b[0;31mKeyboardInterrupt\u001b[0m                         Traceback (most recent call last)",
      "\u001b[0;32m<ipython-input-9-21c41c5a3958>\u001b[0m in \u001b[0;36m<module>\u001b[0;34m\u001b[0m\n\u001b[1;32m     56\u001b[0m         \u001b[0mg_hat_theta\u001b[0m \u001b[0;34m=\u001b[0m \u001b[0mcalc_g_hat_theta\u001b[0m\u001b[0;34m(\u001b[0m\u001b[0mA_current\u001b[0m\u001b[0;34m,\u001b[0m\u001b[0my\u001b[0m\u001b[0;34m)\u001b[0m\u001b[0;34m\u001b[0m\u001b[0;34m\u001b[0m\u001b[0m\n\u001b[1;32m     57\u001b[0m         \u001b[0mg_hat_y\u001b[0m \u001b[0;34m=\u001b[0m \u001b[0mcalc_g_hat_y\u001b[0m\u001b[0;34m(\u001b[0m\u001b[0mb_current\u001b[0m\u001b[0;34m,\u001b[0m\u001b[0mA_current\u001b[0m\u001b[0;34m,\u001b[0m\u001b[0mtheta\u001b[0m\u001b[0;34m,\u001b[0m\u001b[0mM_current\u001b[0m\u001b[0;34m,\u001b[0m\u001b[0my\u001b[0m\u001b[0;34m)\u001b[0m\u001b[0;34m\u001b[0m\u001b[0;34m\u001b[0m\u001b[0m\n\u001b[0;32m---> 58\u001b[0;31m         \u001b[0mPF_Plus_theta\u001b[0m\u001b[0;34m.\u001b[0m\u001b[0mupdate\u001b[0m\u001b[0;34m(\u001b[0m\u001b[0mg_hat_theta\u001b[0m\u001b[0;34m)\u001b[0m\u001b[0;34m\u001b[0m\u001b[0;34m\u001b[0m\u001b[0m\n\u001b[0m\u001b[1;32m     59\u001b[0m         \u001b[0mPF_Plus_y\u001b[0m\u001b[0;34m.\u001b[0m\u001b[0mupdate\u001b[0m\u001b[0;34m(\u001b[0m\u001b[0mg_hat_y\u001b[0m\u001b[0;34m)\u001b[0m\u001b[0;34m\u001b[0m\u001b[0;34m\u001b[0m\u001b[0m\n\u001b[1;32m     60\u001b[0m         \u001b[0;32mif\u001b[0m \u001b[0mr\u001b[0m \u001b[0;34m==\u001b[0m \u001b[0;36m0\u001b[0m\u001b[0;34m:\u001b[0m\u001b[0;34m\u001b[0m\u001b[0;34m\u001b[0m\u001b[0m\n",
      "\u001b[0;32m~/Desktop/project/PF_Plus.py\u001b[0m in \u001b[0;36mupdate\u001b[0;34m(self, g)\u001b[0m\n\u001b[1;32m     11\u001b[0m   \u001b[0;32mdef\u001b[0m \u001b[0mupdate\u001b[0m\u001b[0;34m(\u001b[0m\u001b[0mself\u001b[0m\u001b[0;34m,\u001b[0m\u001b[0mg\u001b[0m\u001b[0;34m)\u001b[0m\u001b[0;34m:\u001b[0m\u001b[0;34m\u001b[0m\u001b[0;34m\u001b[0m\u001b[0m\n\u001b[1;32m     12\u001b[0m     \u001b[0mg1\u001b[0m\u001b[0;34m,\u001b[0m\u001b[0mh\u001b[0m \u001b[0;34m=\u001b[0m \u001b[0mself\u001b[0m\u001b[0;34m.\u001b[0m\u001b[0mC\u001b[0m\u001b[0;34m.\u001b[0m\u001b[0mupdate\u001b[0m\u001b[0;34m(\u001b[0m\u001b[0mg\u001b[0m\u001b[0;34m)\u001b[0m\u001b[0;34m\u001b[0m\u001b[0;34m\u001b[0m\u001b[0m\n\u001b[0;32m---> 13\u001b[0;31m     \u001b[0mself\u001b[0m\u001b[0;34m.\u001b[0m\u001b[0mA1\u001b[0m\u001b[0;34m.\u001b[0m\u001b[0mupdate\u001b[0m\u001b[0;34m(\u001b[0m\u001b[0mg1\u001b[0m\u001b[0;34m,\u001b[0m\u001b[0mh\u001b[0m\u001b[0;34m)\u001b[0m\u001b[0;34m\u001b[0m\u001b[0;34m\u001b[0m\u001b[0m\n\u001b[0m\u001b[1;32m     14\u001b[0m     \u001b[0mself\u001b[0m\u001b[0;34m.\u001b[0m\u001b[0mA2\u001b[0m\u001b[0;34m.\u001b[0m\u001b[0mupdate\u001b[0m\u001b[0;34m(\u001b[0m\u001b[0mg1\u001b[0m\u001b[0;34m,\u001b[0m\u001b[0mPFGTD\u001b[0m\u001b[0;34m.\u001b[0m\u001b[0mmagnitude\u001b[0m\u001b[0;34m(\u001b[0m\u001b[0mh\u001b[0m\u001b[0;34m,\u001b[0m\u001b[0mself\u001b[0m\u001b[0;34m.\u001b[0m\u001b[0mdim\u001b[0m\u001b[0;34m)\u001b[0m\u001b[0;34m)\u001b[0m\u001b[0;34m\u001b[0m\u001b[0;34m\u001b[0m\u001b[0m\n",
      "\u001b[0;32m~/Desktop/project/CWPFGTD.py\u001b[0m in \u001b[0;36mupdate\u001b[0;34m(self, g, h)\u001b[0m\n\u001b[1;32m     16\u001b[0m     \u001b[0mm\u001b[0m \u001b[0;34m=\u001b[0m \u001b[0mnp\u001b[0m\u001b[0;34m.\u001b[0m\u001b[0mzeros\u001b[0m\u001b[0;34m(\u001b[0m\u001b[0;34m(\u001b[0m\u001b[0mself\u001b[0m\u001b[0;34m.\u001b[0m\u001b[0mdim\u001b[0m\u001b[0;34m,\u001b[0m\u001b[0;36m1\u001b[0m\u001b[0;34m)\u001b[0m\u001b[0;34m)\u001b[0m\u001b[0;34m\u001b[0m\u001b[0;34m\u001b[0m\u001b[0m\n\u001b[1;32m     17\u001b[0m     \u001b[0;32mfor\u001b[0m \u001b[0mi\u001b[0m \u001b[0;32min\u001b[0m \u001b[0mrange\u001b[0m\u001b[0;34m(\u001b[0m\u001b[0mself\u001b[0m\u001b[0;34m.\u001b[0m\u001b[0mdim\u001b[0m\u001b[0;34m)\u001b[0m\u001b[0;34m:\u001b[0m\u001b[0;34m\u001b[0m\u001b[0;34m\u001b[0m\u001b[0m\n\u001b[0;32m---> 18\u001b[0;31m       \u001b[0mm\u001b[0m\u001b[0;34m[\u001b[0m\u001b[0mi\u001b[0m\u001b[0;34m]\u001b[0m \u001b[0;34m=\u001b[0m \u001b[0mg\u001b[0m\u001b[0;34m[\u001b[0m\u001b[0mi\u001b[0m\u001b[0;34m]\u001b[0m\u001b[0;34m/\u001b[0m\u001b[0;34m(\u001b[0m\u001b[0;36m1\u001b[0m\u001b[0;34m-\u001b[0m\u001b[0mself\u001b[0m\u001b[0;34m.\u001b[0m\u001b[0mB\u001b[0m\u001b[0;34m[\u001b[0m\u001b[0;34m-\u001b[0m\u001b[0;36m1\u001b[0m\u001b[0;34m]\u001b[0m\u001b[0;34m[\u001b[0m\u001b[0mi\u001b[0m\u001b[0;34m]\u001b[0m\u001b[0;34m*\u001b[0m\u001b[0mg\u001b[0m\u001b[0;34m[\u001b[0m\u001b[0mi\u001b[0m\u001b[0;34m]\u001b[0m\u001b[0;34m)\u001b[0m\u001b[0;34m\u001b[0m\u001b[0;34m\u001b[0m\u001b[0m\n\u001b[0m\u001b[1;32m     19\u001b[0m     \u001b[0mself\u001b[0m\u001b[0;34m.\u001b[0m\u001b[0msum_m\u001b[0m \u001b[0;34m+=\u001b[0m\u001b[0mm\u001b[0m\u001b[0;34m**\u001b[0m\u001b[0;36m2\u001b[0m\u001b[0;34m\u001b[0m\u001b[0;34m\u001b[0m\u001b[0m\n\u001b[1;32m     20\u001b[0m     \u001b[0mB_hat\u001b[0m \u001b[0;34m=\u001b[0m \u001b[0mnp\u001b[0m\u001b[0;34m.\u001b[0m\u001b[0mzeros\u001b[0m\u001b[0;34m(\u001b[0m\u001b[0;34m(\u001b[0m\u001b[0mself\u001b[0m\u001b[0;34m.\u001b[0m\u001b[0mdim\u001b[0m\u001b[0;34m,\u001b[0m\u001b[0;36m1\u001b[0m\u001b[0;34m)\u001b[0m\u001b[0;34m)\u001b[0m\u001b[0;34m\u001b[0m\u001b[0;34m\u001b[0m\u001b[0m\n",
      "\u001b[0;31mKeyboardInterrupt\u001b[0m: "
     ]
    }
   ],
   "source": [
    "\n",
    "numEp=100\n",
    "new = mdp.getStartState()\n",
    "\n",
    "\n",
    "prev = new\n",
    "#a = random.choice(actions)\n",
    "if random.uniform(0,1)>epsillon:\n",
    "    a=random.choice(actions)\n",
    "else:\n",
    "    a = policy[new]\n",
    "ratio = 1.0\n",
    "new,r = mdp.getTransition(new,a)\n",
    "\n",
    "#if a == policy[prev]:\n",
    "#    ratio = ratio_fav\n",
    "#else:\n",
    "#    ratio = ratio_others\n",
    "\n",
    "oldFeatures = getFeatures(prev,a)\n",
    "newFeatures = getFeatures(new,policy[new])\n",
    "temp = oldFeatures - discount * newFeatures\n",
    "A_current = np.matmul(ratio*oldFeatures.reshape((d,1)),temp.reshape((1,d)))\n",
    "b_current = r*ratio*oldFeatures\n",
    "M_current = np.matmul(oldFeatures.reshape((d,1)),oldFeatures.reshape((1,d)))\n",
    "\n",
    "\n",
    "g_hat_theta = calc_g_hat_theta(A_current,y)\n",
    "g_hat_y = calc_g_hat_y(b_current,A_current,theta,M_current,y)\n",
    "PF_Plus_theta = PF_Plus.Algo(g_hat_theta,d)\n",
    "PF_Plus_y = PF_Plus.Algo(g_hat_y,d)\n",
    "for e in range(numEp):\n",
    "    s = 0\n",
    "    while 1:\n",
    "        s+=1\n",
    "        prev = new\n",
    "        #a = random.choice(actions)\n",
    "        if random.uniform(0,1)>epsillon:\n",
    "            a=random.choice(actions)\n",
    "        else:\n",
    "            a = policy[new]\n",
    "        ratio = 1.0\n",
    "        new,r = mdp.getTransition(new,a)\n",
    "        #if a == policy[prev]:\n",
    "        #    ratio = ratio_fav\n",
    "        #else:\n",
    "        #    ratio = ratio_others\n",
    "        oldFeatures = getFeatures(prev,a)\n",
    "        newFeatures = getFeatures(new,policy[new])\n",
    "        temp = oldFeatures - discount * newFeatures\n",
    "        A_current = np.matmul(ratio*oldFeatures.reshape((d,1)),temp.reshape((1,d)))\n",
    "        b_current = r*ratio*oldFeatures\n",
    "        M_current = np.matmul(oldFeatures.reshape((d,1)),oldFeatures.reshape((1,d)))\n",
    "        theta = PF_Plus_theta.getWeight()\n",
    "        y = PF_Plus_y.getWeight()\n",
    "        improvePolicy()\n",
    "        g_hat_theta = calc_g_hat_theta(A_current,y)\n",
    "        g_hat_y = calc_g_hat_y(b_current,A_current,theta,M_current,y)\n",
    "        PF_Plus_theta.update(g_hat_theta)\n",
    "        PF_Plus_y.update(g_hat_y)\n",
    "        if r == 0:\n",
    "            break\n",
    "    new = mdp.getStartState()\n",
    "    print(e,s)"
   ]
  },
  {
   "cell_type": "code",
   "execution_count": 10,
   "metadata": {},
   "outputs": [
    {
     "data": {
      "text/plain": [
       "[<matplotlib.lines.Line2D at 0x7fe776dd5820>]"
      ]
     },
     "execution_count": 10,
     "metadata": {},
     "output_type": "execute_result"
    },
    {
     "data": {
      "image/png": "[encoded data removed]",
      "text/plain": [
       "<Figure size 432x288 with 1 Axes>"
      ]
     },
     "metadata": {
      "needs_background": "light"
     },
     "output_type": "display_data"
    }
   ],
   "source": [
    "x1,y1 = np.meshgrid(np.arange(0, 10, 1), np.arange(0, 8, 1))\n",
    "u = np.zeros(y1.shape)\n",
    "v = np.zeros(y1.shape)\n",
    "for i in range(10):\n",
    "    for j in range(8):\n",
    "        if policy[(i,j)]==\"UP\":\n",
    "            u[j,i]=0\n",
    "            v[j,i]=0.1\n",
    "        elif policy[(i,j)]==\"DOWN\":\n",
    "            u[j,i]=0\n",
    "            v[j,i]=-0.1\n",
    "        elif policy[(i,j)]==\"RIGHT\":\n",
    "            u[j,i]=0.1\n",
    "            v[j,i]=0\n",
    "        elif policy[(i,j)]==\"LEFT\":\n",
    "            u[j,i]=-0.1\n",
    "            v[j,i]=0\n",
    "        else:\n",
    "            print(\"UNKNOWN ACTION\",policy[(i,j)])\n",
    "\n",
    "\n",
    "plt.quiver(x1,y1,u,v)\n",
    "plt.plot(0,4,\"go\")\n",
    "plt.plot(7,4,\"yo\")"
   ]
  },
  {
   "cell_type": "code",
   "execution_count": null,
   "metadata": {},
   "outputs": [],
   "source": []
  }
 ],
 "metadata": {
  "kernelspec": {
   "display_name": "Python 3",
   "language": "python",
   "name": "python3"
  },
  "language_info": {
   "codemirror_mode": {
    "name": "ipython",
    "version": 3
   },
   "file_extension": ".py",
   "mimetype": "text/x-python",
   "name": "python",
   "nbconvert_exporter": "python",
   "pygments_lexer": "ipython3",
   "version": "3.8.3"
  }
 },
 "nbformat": 4,
 "nbformat_minor": 4
}
