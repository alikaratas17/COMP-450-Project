{
 "cells": [
  {
   "cell_type": "code",
   "execution_count": 1,
   "metadata": {},
   "outputs": [],
   "source": [
    "import WindyGridWorld\n",
    "import random\n",
    "import numpy as np\n",
    "import matplotlib.pyplot as plt\n",
    "import updaters"
   ]
  },
  {
   "cell_type": "code",
   "execution_count": 2,
   "metadata": {},
   "outputs": [],
   "source": [
    "d=320\n",
    "def getFeatures(state,action):\n",
    "    vect = np.zeros((320,1))\n",
    "    if action == actions[0]:\n",
    "        act_val=0\n",
    "    elif action == actions[1]:\n",
    "        act_val=1\n",
    "    elif action == actions[2]:\n",
    "        act_val=2\n",
    "    elif action == actions[3]:\n",
    "        act_val=3\n",
    "    else:\n",
    "        print(\"UNKNOWN ACTION\",action)\n",
    "    s_val = state[0]+10*state[1]+act_val*80\n",
    "    vect[s_val]=1\n",
    "    return vect"
   ]
  },
  {
   "cell_type": "code",
   "execution_count": 3,
   "metadata": {},
   "outputs": [],
   "source": [
    "def getQVal(features,weights):\n",
    "    return np.matmul(features.reshape((1,d)),weights.reshape((d,1)))"
   ]
  },
  {
   "cell_type": "code",
   "execution_count": 4,
   "metadata": {},
   "outputs": [],
   "source": [
    "mdp = WindyGridWorld.mdp()\n",
    "actions = [\"UP\",\"DOWN\",\"LEFT\",\"RIGHT\"]"
   ]
  },
  {
   "cell_type": "code",
   "execution_count": 5,
   "metadata": {},
   "outputs": [],
   "source": [
    "# Initial Policy\n",
    "epsillon = 0.1\n",
    "weights = np.zeros((d,1))#np.array([random.uniform(-1,1) for i in range(d)]).reshape((d,1))\n",
    "policy = {}\n",
    "for i in range(10):\n",
    "    for j in range(8):\n",
    "        best = None\n",
    "        best_action=None\n",
    "        for a in actions:\n",
    "            q = getQVal(getFeatures((i,j),a),weights)\n",
    "            if best==None or q>best:\n",
    "                best = q\n",
    "                best_action = a\n",
    "        policy[(i,j)]=best_action"
   ]
  },
  {
   "cell_type": "code",
   "execution_count": 6,
   "metadata": {},
   "outputs": [],
   "source": [
    "# Exp policy fully random\n",
    "b_prob = 1/4\n",
    "# Current policy -> policy, with eps greedy action selection: Each non fav is with prob p = eps/4\n",
    "p_fav = 1-epsillon+epsillon/4\n",
    "p_others = epsillon/4\n",
    "ratio_fav = p_fav/b_prob\n",
    "ratio_others = p_others/b_prob\n",
    "discount = 1.0"
   ]
  },
  {
   "cell_type": "code",
   "execution_count": 7,
   "metadata": {},
   "outputs": [],
   "source": [
    "def improvePolicy():\n",
    "    for i in range(10):\n",
    "        for j in range(8):\n",
    "            best = None\n",
    "            best_action=None\n",
    "            for a in actions:\n",
    "                q = getQVal(getFeatures((i,j),a),weights)\n",
    "                if best==None or q>best:\n",
    "                    best = q\n",
    "                    best_action = a\n",
    "            policy[(i,j)]=best_action"
   ]
  },
  {
   "cell_type": "code",
   "execution_count": 8,
   "metadata": {},
   "outputs": [],
   "source": [
    "def improvePolicyForOne(state):\n",
    "    best = None\n",
    "    best_action=None\n",
    "    for a in actions:\n",
    "        q = getQVal(getFeatures(state,a),weights)\n",
    "        if best==None or q>best:\n",
    "            best = q\n",
    "            best_action = a\n",
    "    policy[state]=best_action"
   ]
  },
  {
   "cell_type": "code",
   "execution_count": 9,
   "metadata": {},
   "outputs": [],
   "source": [
    "mdp=WindyGridWorld.mdp()\n",
    "num_eps =100\n",
    "a=0.01\n",
    "updater = updaters.OffPolicyTD(a,discount,dim=320)\n",
    "for e in range(num_eps):\n",
    "    state = mdp.getStartState()\n",
    "    newFeatures = getFeatures(state,policy[state])\n",
    "    i=0\n",
    "    while 1:\n",
    "        i+=1\n",
    "        prev = state\n",
    "        ac = random.choice(actions)\n",
    "        if ac==policy[state]:\n",
    "            ratio = ratio_fav\n",
    "        else:\n",
    "            ratio = ratio_others\n",
    "        oldFeatures=newFeatures\n",
    "        state,r = mdp.getTransition(state,ac)\n",
    "        newFeatures = getFeatures(state,ac)\n",
    "        weights=updater.update(r,weights,oldFeatures,newFeatures,ratio)\n",
    "        improvePolicyForOne(prev)\n",
    "        if r==0:\n",
    "            break\n",
    "    #print(e,i)"
   ]
  },
  {
   "cell_type": "code",
   "execution_count": 10,
   "metadata": {
    "scrolled": false
   },
   "outputs": [
    {
     "data": {
      "text/plain": [
       "[<matplotlib.lines.Line2D at 0x7fcb9795a6d0>]"
      ]
     },
     "execution_count": 10,
     "metadata": {},
     "output_type": "execute_result"
    },
    {
     "data": {
      "image/png": "[encoded data removed]",
      "text/plain": [
       "<Figure size 432x288 with 1 Axes>"
      ]
     },
     "metadata": {
      "needs_background": "light"
     },
     "output_type": "display_data"
    }
   ],
   "source": [
    "x1,y1 = np.meshgrid(np.arange(0, 10, 1), np.arange(0, 8, 1))\n",
    "u = np.zeros(y1.shape)\n",
    "v = np.zeros(y1.shape)\n",
    "for i in range(10):\n",
    "    for j in range(8):\n",
    "        if policy[(i,j)]==\"UP\":\n",
    "            u[j,i]=0\n",
    "            v[j,i]=0.1\n",
    "        elif policy[(i,j)]==\"DOWN\":\n",
    "            u[j,i]=0\n",
    "            v[j,i]=-0.1\n",
    "        elif policy[(i,j)]==\"RIGHT\":\n",
    "            u[j,i]=0.1\n",
    "            v[j,i]=0\n",
    "        elif policy[(i,j)]==\"LEFT\":\n",
    "            u[j,i]=-0.1\n",
    "            v[j,i]=0\n",
    "        else:\n",
    "            print(\"UNKNOWN ACTION\",policy[(i,j)])\n",
    "\n",
    "\n",
    "plt.quiver(x1,y1,u,v)\n",
    "plt.plot(0,4,\"go\")\n",
    "plt.plot(7,4,\"yo\")"
   ]
  },
  {
   "cell_type": "code",
   "execution_count": 11,
   "metadata": {},
   "outputs": [],
   "source": [
    "improvePolicy()\n",
    "weights = np.zeros((d,1))"
   ]
  },
  {
   "cell_type": "code",
   "execution_count": 12,
   "metadata": {
    "scrolled": true
   },
   "outputs": [],
   "source": [
    "num_eps=200\n",
    "for e in range(num_eps):\n",
    "    state = mdp.getStartState()\n",
    "    newFeatures = getFeatures(state,policy[state])\n",
    "    i=0\n",
    "    while 1:\n",
    "        i+=1\n",
    "        prev = state\n",
    "        ac = random.choice(actions)\n",
    "        if ac==policy[state]:\n",
    "            ratio = ratio_fav\n",
    "        else:\n",
    "            ratio = ratio_others\n",
    "        oldFeatures=newFeatures\n",
    "        state,r = mdp.getTransition(state,ac)\n",
    "        newFeatures = getFeatures(state,ac)\n",
    "        weights=updater.update(r,weights,oldFeatures,newFeatures,ratio)\n",
    "        if r==0:\n",
    "            break\n",
    "    #print(e,i)"
   ]
  },
  {
   "cell_type": "code",
   "execution_count": 13,
   "metadata": {},
   "outputs": [
    {
     "data": {
      "text/plain": [
       "[<matplotlib.lines.Line2D at 0x7fcb979f7fa0>]"
      ]
     },
     "execution_count": 13,
     "metadata": {},
     "output_type": "execute_result"
    },
    {
     "data": {
      "image/png": "[encoded data removed]",
      "text/plain": [
       "<Figure size 432x288 with 1 Axes>"
      ]
     },
     "metadata": {
      "needs_background": "light"
     },
     "output_type": "display_data"
    }
   ],
   "source": [
    "x1,y1 = np.meshgrid(np.arange(0, 10, 1), np.arange(0, 8, 1))\n",
    "u = np.zeros(y1.shape)\n",
    "v = np.zeros(y1.shape)\n",
    "for i in range(10):\n",
    "    for j in range(8):\n",
    "        if policy[(i,j)]==\"UP\":\n",
    "            u[j,i]=0\n",
    "            v[j,i]=0.1\n",
    "        elif policy[(i,j)]==\"DOWN\":\n",
    "            u[j,i]=0\n",
    "            v[j,i]=-0.1\n",
    "        elif policy[(i,j)]==\"RIGHT\":\n",
    "            u[j,i]=0.1\n",
    "            v[j,i]=0\n",
    "        elif policy[(i,j)]==\"LEFT\":\n",
    "            u[j,i]=-0.1\n",
    "            v[j,i]=0\n",
    "        else:\n",
    "            print(\"UNKNOWN ACTION\",policy[(i,j)])\n",
    "\n",
    "\n",
    "plt.quiver(x1,y1,u,v)\n",
    "plt.plot(0,4,\"go\")\n",
    "plt.plot(7,4,\"yo\")"
   ]
  },
  {
   "cell_type": "code",
   "execution_count": 14,
   "metadata": {
    "scrolled": true
   },
   "outputs": [],
   "source": [
    "improvePolicy()\n",
    "weights = np.zeros((d,1))\n",
    "num_eps=1000\n",
    "for e in range(num_eps):\n",
    "    state = mdp.getStartState()\n",
    "    newFeatures = getFeatures(state,policy[state])\n",
    "    i=0\n",
    "    while 1:\n",
    "        i+=1\n",
    "        prev = state\n",
    "        ac = random.choice(actions)\n",
    "        if ac==policy[state]:\n",
    "            ratio = ratio_fav\n",
    "        else:\n",
    "            ratio = ratio_others\n",
    "        oldFeatures=newFeatures\n",
    "        state,r = mdp.getTransition(state,ac)\n",
    "        newFeatures = getFeatures(state,ac)\n",
    "        weights=updater.update(r,weights,oldFeatures,newFeatures,ratio)\n",
    "        #improvePolicyForOne(prev)\n",
    "        if r==0:\n",
    "            break"
   ]
  },
  {
   "cell_type": "code",
   "execution_count": 15,
   "metadata": {},
   "outputs": [
    {
     "data": {
      "text/plain": [
       "[<matplotlib.lines.Line2D at 0x7fcb97ac4f40>]"
      ]
     },
     "execution_count": 15,
     "metadata": {},
     "output_type": "execute_result"
    },
    {
     "data": {
      "image/png": "[encoded data removed]",
      "text/plain": [
       "<Figure size 432x288 with 1 Axes>"
      ]
     },
     "metadata": {
      "needs_background": "light"
     },
     "output_type": "display_data"
    }
   ],
   "source": [
    "x1,y1 = np.meshgrid(np.arange(0, 10, 1), np.arange(0, 8, 1))\n",
    "u = np.zeros(y1.shape)\n",
    "v = np.zeros(y1.shape)\n",
    "for i in range(10):\n",
    "    for j in range(8):\n",
    "        if policy[(i,j)]==\"UP\":\n",
    "            u[j,i]=0\n",
    "            v[j,i]=0.1\n",
    "        elif policy[(i,j)]==\"DOWN\":\n",
    "            u[j,i]=0\n",
    "            v[j,i]=-0.1\n",
    "        elif policy[(i,j)]==\"RIGHT\":\n",
    "            u[j,i]=0.1\n",
    "            v[j,i]=0\n",
    "        elif policy[(i,j)]==\"LEFT\":\n",
    "            u[j,i]=-0.1\n",
    "            v[j,i]=0\n",
    "        else:\n",
    "            print(\"UNKNOWN ACTION\",policy[(i,j)])\n",
    "\n",
    "\n",
    "plt.quiver(x1,y1,u,v)\n",
    "plt.plot(0,4,\"go\")\n",
    "plt.plot(7,4,\"yo\")"
   ]
  },
  {
   "cell_type": "code",
   "execution_count": null,
   "metadata": {},
   "outputs": [],
   "source": [
    "improvePolicy()\n",
    "weights = np.zeros((d,1))\n",
    "num_eps=1000\n",
    "for e in range(num_eps):\n",
    "    state = mdp.getStartState()\n",
    "    newFeatures = getFeatures(state,policy[state])\n",
    "    i=0\n",
    "    while 1:\n",
    "        i+=1\n",
    "        prev = state\n",
    "        ac = random.choice(actions)\n",
    "        if ac==policy[state]:\n",
    "            ratio = ratio_fav\n",
    "        else:\n",
    "            ratio = ratio_others\n",
    "        oldFeatures=newFeatures\n",
    "        state,r = mdp.getTransition(state,ac)\n",
    "        newFeatures = getFeatures(state,ac)\n",
    "        weights=updater.update(r,weights,oldFeatures,newFeatures,ratio)\n",
    "        #improvePolicyForOne(prev)\n",
    "        if r==0:\n",
    "            break\n",
    "    #print(e,i)\n",
    "improvePolicy()\n",
    "weights = np.zeros((d,1))"
   ]
  },
  {
   "cell_type": "code",
   "execution_count": null,
   "metadata": {},
   "outputs": [],
   "source": [
    "e"
   ]
  },
  {
   "cell_type": "code",
   "execution_count": null,
   "metadata": {},
   "outputs": [],
   "source": [
    "num_eps=1000\n",
    "for e in range(num_eps):\n",
    "    state = mdp.getStartState()\n",
    "    newFeatures = getFeatures(state,policy[state])\n",
    "    i=0\n",
    "    while 1:\n",
    "        i+=1\n",
    "        prev = state\n",
    "        ac = random.choice(actions)\n",
    "        if ac==policy[state]:\n",
    "            ratio = ratio_fav\n",
    "        else:\n",
    "            ratio = ratio_others\n",
    "        oldFeatures=newFeatures\n",
    "        state,r = mdp.getTransition(state,ac)\n",
    "        newFeatures = getFeatures(state,ac)\n",
    "        weights=updater.update(r,weights,oldFeatures,newFeatures,ratio)\n",
    "        #improvePolicyForOne(prev)\n",
    "        if r==0:\n",
    "            break\n",
    "    #print(e,i)\n",
    "improvePolicy()\n",
    "weights = np.zeros((d,1))"
   ]
  },
  {
   "cell_type": "code",
   "execution_count": null,
   "metadata": {},
   "outputs": [],
   "source": [
    "num_eps=1\n",
    "for e in range(num_eps):\n",
    "    state = mdp.getStartState()\n",
    "    newFeatures = getFeatures(state,policy[state])\n",
    "    i=0\n",
    "    while 1:\n",
    "        i+=1\n",
    "        prev = state\n",
    "        if random.uniform(0,1)>epsillon:\n",
    "            ac = policy[state]\n",
    "        else:\n",
    "            ac = random.choice(actions)\n",
    "        ratio = 1.0\n",
    "        oldFeatures=newFeatures\n",
    "        state,r = mdp.getTransition(state,ac)\n",
    "        newFeatures = getFeatures(state,ac)\n",
    "        weights=updater.update(r,weights,oldFeatures,newFeatures,ratio)\n",
    "        #improvePolicyForOne(prev)\n",
    "        if r==0:\n",
    "            break\n",
    "    print(e,i)"
   ]
  },
  {
   "cell_type": "code",
   "execution_count": null,
   "metadata": {
    "scrolled": true
   },
   "outputs": [],
   "source": [
    "improvePolicy()\n",
    "weights = np.zeros((d,1))\n",
    "num_eps=2\n",
    "for e in range(num_eps):\n",
    "    state = mdp.getStartState()\n",
    "    newFeatures = getFeatures(state,policy[state])\n",
    "    i=0\n",
    "    while 1:\n",
    "        i+=1\n",
    "        prev = state\n",
    "        if random.uniform(0,1)>epsillon:\n",
    "            ac = policy[state]\n",
    "        else:\n",
    "            ac = random.choice(actions)\n",
    "        ratio = 1.0\n",
    "        oldFeatures=newFeatures\n",
    "        state,r = mdp.getTransition(state,ac)\n",
    "        newFeatures = getFeatures(state,ac)\n",
    "        weights=updater.update(r,weights,oldFeatures,newFeatures,ratio)\n",
    "        #improvePolicyForOne(prev)\n",
    "        if r==0:\n",
    "            break\n",
    "    print(e,i)"
   ]
  },
  {
   "cell_type": "code",
   "execution_count": null,
   "metadata": {},
   "outputs": [],
   "source": [
    "improvePolicy()\n",
    "num_eps=1000\n",
    "for e in range(num_eps):\n",
    "    state = mdp.getStartState()\n",
    "    newFeatures = getFeatures(state,policy[state])\n",
    "    i=0\n",
    "    while 1:\n",
    "        i+=1\n",
    "        prev = state\n",
    "        if random.uniform(0,1)>epsillon:\n",
    "            ac = policy[state]\n",
    "        else:\n",
    "            ac = random.choice(actions)\n",
    "        ratio = 1.0\n",
    "        oldFeatures=newFeatures\n",
    "        state,r = mdp.getTransition(state,ac)\n",
    "        newFeatures = getFeatures(state,ac)\n",
    "        weights=updater.update(r,weights,oldFeatures,newFeatures,ratio)\n",
    "        improvePolicyForOne(prev)\n",
    "        if r==0:\n",
    "            break"
   ]
  },
  {
   "cell_type": "code",
   "execution_count": null,
   "metadata": {},
   "outputs": [],
   "source": [
    "e"
   ]
  },
  {
   "cell_type": "code",
   "execution_count": null,
   "metadata": {},
   "outputs": [],
   "source": [
    "improvePolicy()"
   ]
  },
  {
   "cell_type": "code",
   "execution_count": null,
   "metadata": {},
   "outputs": [],
   "source": [
    "x1,y1 = np.meshgrid(np.arange(0, 10, 1), np.arange(0, 8, 1))\n",
    "u = np.zeros(y1.shape)\n",
    "v = np.zeros(y1.shape)\n",
    "for i in range(10):\n",
    "    for j in range(8):\n",
    "        if policy[(i,j)]==\"UP\":\n",
    "            u[j,i]=0\n",
    "            v[j,i]=0.1\n",
    "        elif policy[(i,j)]==\"DOWN\":\n",
    "            u[j,i]=0\n",
    "            v[j,i]=-0.1\n",
    "        elif policy[(i,j)]==\"RIGHT\":\n",
    "            u[j,i]=0.1\n",
    "            v[j,i]=0\n",
    "        elif policy[(i,j)]==\"LEFT\":\n",
    "            u[j,i]=-0.1\n",
    "            v[j,i]=0\n",
    "        else:\n",
    "            print(\"UNKNOWN ACTION\",policy[(i,j)])\n",
    "\n",
    "\n",
    "plt.quiver(x1,y1,u,v)\n",
    "plt.plot(0,4,\"go\")\n",
    "plt.plot(7,4,\"yo\")"
   ]
  },
  {
   "cell_type": "code",
   "execution_count": null,
   "metadata": {},
   "outputs": [],
   "source": []
  }
 ],
 "metadata": {
  "kernelspec": {
   "display_name": "Python 3",
   "language": "python",
   "name": "python3"
  },
  "language_info": {
   "codemirror_mode": {
    "name": "ipython",
    "version": 3
   },
   "file_extension": ".py",
   "mimetype": "text/x-python",
   "name": "python",
   "nbconvert_exporter": "python",
   "pygments_lexer": "ipython3",
   "version": "3.8.3"
  }
 },
 "nbformat": 4,
 "nbformat_minor": 4
}
